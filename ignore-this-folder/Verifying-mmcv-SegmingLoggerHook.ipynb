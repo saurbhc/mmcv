{
 "cells": [
  {
   "cell_type": "code",
   "execution_count": 3,
   "id": "75b30b88-4884-48ed-83bc-b4bf82ac299d",
   "metadata": {},
   "outputs": [
    {
     "name": "stdout",
     "output_type": "stream",
     "text": [
      "Wed Jan 19 16:56:19 2022       \n",
      "+-----------------------------------------------------------------------------+\n",
      "| NVIDIA-SMI 470.57.02    Driver Version: 470.57.02    CUDA Version: 11.4     |\n",
      "|-------------------------------+----------------------+----------------------+\n",
      "| GPU  Name        Persistence-M| Bus-Id        Disp.A | Volatile Uncorr. ECC |\n",
      "| Fan  Temp  Perf  Pwr:Usage/Cap|         Memory-Usage | GPU-Util  Compute M. |\n",
      "|                               |                      |               MIG M. |\n",
      "|===============================+======================+======================|\n",
      "|   0  Tesla T4            On   | 00000000:00:1E.0 Off |                    0 |\n",
      "| N/A   29C    P8     9W /  70W |      0MiB / 15109MiB |      0%      Default |\n",
      "|                               |                      |                  N/A |\n",
      "+-------------------------------+----------------------+----------------------+\n",
      "                                                                               \n",
      "+-----------------------------------------------------------------------------+\n",
      "| Processes:                                                                  |\n",
      "|  GPU   GI   CI        PID   Type   Process name                  GPU Memory |\n",
      "|        ID   ID                                                   Usage      |\n",
      "|=============================================================================|\n",
      "|  No running processes found                                                 |\n",
      "+-----------------------------------------------------------------------------+\n"
     ]
    }
   ],
   "source": [
    "!nvidia-smi"
   ]
  },
  {
   "cell_type": "code",
   "execution_count": 4,
   "id": "ee13a271-bad8-4ad2-9ccb-6968b8d96a1d",
   "metadata": {},
   "outputs": [
    {
     "name": "stdout",
     "output_type": "stream",
     "text": [
      "1.10.0 True\n"
     ]
    }
   ],
   "source": [
    "import torch, torchvision\n",
    "print(torch.__version__, torch.cuda.is_available())"
   ]
  },
  {
   "cell_type": "markdown",
   "id": "ac5edac9-2c7c-4960-b802-61b0c7ba39d3",
   "metadata": {},
   "source": [
    "### i. Install mmcv-full"
   ]
  },
  {
   "cell_type": "code",
   "execution_count": 5,
   "id": "f3abb30a-3be3-4971-938a-35cc225e0977",
   "metadata": {},
   "outputs": [
    {
     "name": "stdout",
     "output_type": "stream",
     "text": [
      "Defaulting to user installation because normal site-packages is not writeable\n",
      "Looking in links: https://download.openmmlab.com/mmcv/dist/cu113/torch1.10.0/index.html\n",
      "Collecting mmcv-full\n",
      "  Downloading https://download.openmmlab.com/mmcv/dist/cu113/torch1.10.0/mmcv_full-1.4.3-cp37-cp37m-manylinux1_x86_64.whl (69.6 MB)\n",
      "     |████████████████████████████████| 69.6 MB 7.9 MB/s             \n",
      "\u001b[?25hCollecting addict\n",
      "  Downloading addict-2.4.0-py3-none-any.whl (3.8 kB)\n",
      "Requirement already satisfied: packaging in /opt/conda/lib/python3.7/site-packages (from mmcv-full) (21.3)\n",
      "Requirement already satisfied: opencv-python>=3 in /opt/conda/lib/python3.7/site-packages (from mmcv-full) (4.5.4.60)\n",
      "Requirement already satisfied: Pillow in /opt/conda/lib/python3.7/site-packages (from mmcv-full) (8.4.0)\n",
      "Collecting yapf\n",
      "  Downloading yapf-0.32.0-py2.py3-none-any.whl (190 kB)\n",
      "     |████████████████████████████████| 190 kB 28.3 MB/s            \n",
      "\u001b[?25hRequirement already satisfied: numpy in /opt/conda/lib/python3.7/site-packages (from mmcv-full) (1.21.2)\n",
      "Requirement already satisfied: pyyaml in /opt/conda/lib/python3.7/site-packages (from mmcv-full) (6.0)\n",
      "Requirement already satisfied: pyparsing!=3.0.5,>=2.0.2 in /opt/conda/lib/python3.7/site-packages (from packaging->mmcv-full) (3.0.6)\n",
      "Installing collected packages: yapf, addict, mmcv-full\n",
      "\u001b[33m  WARNING: The scripts yapf and yapf-diff are installed in '/home/juno/.local/bin' which is not on PATH.\n",
      "  Consider adding this directory to PATH or, if you prefer to suppress this warning, use --no-warn-script-location.\u001b[0m\n",
      "Successfully installed addict-2.4.0 mmcv-full-1.4.3 yapf-0.32.0\n",
      "Note: you may need to restart the kernel to use updated packages.\n"
     ]
    }
   ],
   "source": [
    "pip install mmcv-full -f https://download.openmmlab.com/mmcv/dist/cu113/torch1.10.0/index.html"
   ]
  },
  {
   "cell_type": "markdown",
   "id": "9bba1f05-cada-4c3e-95a2-f6c17f1a026b",
   "metadata": {},
   "source": [
    "### ii. register Segmind Hook manually"
   ]
  },
  {
   "cell_type": "code",
   "execution_count": 5,
   "id": "d8d8a93e-893f-4b0f-96b0-86fffe8ee0a1",
   "metadata": {},
   "outputs": [],
   "source": [
    "from mmcv.runner import HOOKS, LoggerHook, master_only\n",
    "\n",
    "from segmind.tracking.fluent import log_metrics\n",
    "from segmind.utils.logging_utils import try_mlflow_log\n",
    "\n",
    "\n",
    "@HOOKS.register_module()\n",
    "class SegmindLoggerHook(LoggerHook):\n",
    "    \"\"\"Class to log metrics to Segmind.\n",
    "    It requires `Segmind`_ to be installed.\n",
    "    .. _Segmind:\n",
    "        https://docs.segmind.com/python-library\n",
    "    \"\"\"\n",
    "\n",
    "    def __init__(self):\n",
    "        super(SegmindLoggerHook, self).__init__()\n",
    "        self.import_segmind()\n",
    "\n",
    "    def import_segmind(self):\n",
    "        try:\n",
    "            import segmind\n",
    "        except ImportError:\n",
    "            raise ImportError(\n",
    "                \"Please run 'pip install segmind' to install segmind\")\n",
    "        self.segmind_log_metrics = segmind.tracking.fluent.log_metrics\n",
    "        self.segmind_mlflow_log = segmind.utils.logging_utils.try_mlflow_log\n",
    "\n",
    "    @master_only\n",
    "    def log(self, runner):\n",
    "        tags = self.get_loggable_tags(runner)\n",
    "        if tags:\n",
    "            # logging metrics to segmind\n",
    "            self.segmind_mlflow_log(\n",
    "                self.segmind_log_metrics,\n",
    "                tags,\n",
    "                step=runner.epoch,\n",
    "                epoch=runner.epoch)"
   ]
  },
  {
   "cell_type": "markdown",
   "id": "12f3e551-7b3f-4d9d-8f92-fca479c79330",
   "metadata": {},
   "source": [
    "### ii. Run `mmcv/examples/train.py` (with Segmind Logger)"
   ]
  },
  {
   "cell_type": "code",
   "execution_count": 6,
   "id": "c9393070-0a13-45ee-8674-3bf5fc7a6f19",
   "metadata": {},
   "outputs": [
    {
     "name": "stdout",
     "output_type": "stream",
     "text": [
      "Files already downloaded and verified\n"
     ]
    },
    {
     "name": "stderr",
     "output_type": "stream",
     "text": [
      "2022-01-19 16:56:33,270 - mmcv - INFO - Start running, host: juno@nb-staging-387-65966bfd44-g7v5h, work_dir: /home/juno/work_dir\n",
      "2022-01-19 16:56:33,271 - mmcv - INFO - Hooks will be executed in the following order:\n",
      "before_run:\n",
      "(VERY_HIGH   ) StepLrUpdaterHook                  \n",
      "(NORMAL      ) CheckpointHook                     \n",
      "(NORMAL      ) SegmindLoggerHook                  \n",
      "(VERY_LOW    ) TextLoggerHook                     \n",
      " -------------------- \n",
      "before_train_epoch:\n",
      "(VERY_HIGH   ) StepLrUpdaterHook                  \n",
      "(NORMAL      ) SegmindLoggerHook                  \n",
      "(LOW         ) IterTimerHook                      \n",
      "(VERY_LOW    ) TextLoggerHook                     \n",
      " -------------------- \n",
      "before_train_iter:\n",
      "(VERY_HIGH   ) StepLrUpdaterHook                  \n",
      "(LOW         ) IterTimerHook                      \n",
      " -------------------- \n",
      "after_train_iter:\n",
      "(ABOVE_NORMAL) OptimizerHook                      \n",
      "(NORMAL      ) CheckpointHook                     \n",
      "(NORMAL      ) SegmindLoggerHook                  \n",
      "(LOW         ) IterTimerHook                      \n",
      "(VERY_LOW    ) TextLoggerHook                     \n",
      " -------------------- \n",
      "after_train_epoch:\n",
      "(NORMAL      ) CheckpointHook                     \n",
      "(NORMAL      ) SegmindLoggerHook                  \n",
      "(VERY_LOW    ) TextLoggerHook                     \n",
      " -------------------- \n",
      "before_val_epoch:\n",
      "(NORMAL      ) SegmindLoggerHook                  \n",
      "(LOW         ) IterTimerHook                      \n",
      "(VERY_LOW    ) TextLoggerHook                     \n",
      " -------------------- \n",
      "before_val_iter:\n",
      "(LOW         ) IterTimerHook                      \n",
      " -------------------- \n",
      "after_val_iter:\n",
      "(LOW         ) IterTimerHook                      \n",
      " -------------------- \n",
      "after_val_epoch:\n",
      "(NORMAL      ) SegmindLoggerHook                  \n",
      "(VERY_LOW    ) TextLoggerHook                     \n",
      " -------------------- \n",
      "after_run:\n",
      "(VERY_LOW    ) TextLoggerHook                     \n",
      " -------------------- \n",
      "2022-01-19 16:56:33,272 - mmcv - INFO - workflow: [('train', 1)], max: 4 epochs\n",
      "2022-01-19 16:56:33,273 - mmcv - INFO - Checkpoints will be saved to /home/juno/work_dir by HardDiskBackend.\n"
     ]
    },
    {
     "name": "stdout",
     "output_type": "stream",
     "text": [
      "endpoint:  /api/2.0/mlflow/runs/create {'method': 'POST', 'json': {'experiment_id': '511effe6-9d42-4856-8e67-c98ffbe94d91', 'tags': [{'key': 'cral.tracking.user', 'value': 'juno'}, {'key': 'cral.tracking.source.name', 'value': '/opt/conda/lib/python3.7/site-packages/ipykernel_launcher.py'}, {'key': 'cral.tracking.source.type', 'value': 'LOCAL'}]}}\n",
      "endpoint:  /api/2.0/mlflow/runs/log-batch {'method': 'POST', 'json': {'run_id': '54d993fa893a4890a7eb84af33803069', 'metrics': [{'key': 'learning_rate', 'value': 0.001, 'timestamp': '1642611397617', 'step': '0', 'epoch': '0', 'tags': [{'key': 'sys_metric', 'value': 'no'}]}, {'key': 'momentum', 'value': 0.9, 'timestamp': '1642611397617', 'step': '0', 'epoch': '0', 'tags': [{'key': 'sys_metric', 'value': 'no'}]}], 'tags': [{'key': 'sys_metric', 'value': 'no'}]}}\n"
     ]
    },
    {
     "name": "stderr",
     "output_type": "stream",
     "text": [
      "2022-01-19 16:56:39,187 - mmcv - INFO - Epoch [1][10/391]\tlr: 1.000e-03, eta: 1:18:51, time: 0.305, data_time: 0.217, memory: 14, \n"
     ]
    },
    {
     "name": "stdout",
     "output_type": "stream",
     "text": [
      "endpoint:  /api/2.0/mlflow/runs/log-batch {'method': 'POST', 'json': {'run_id': '54d993fa893a4890a7eb84af33803069', 'metrics': [{'key': 'learning_rate', 'value': 0.001, 'timestamp': '1642611399302', 'step': '0', 'epoch': '0', 'tags': [{'key': 'sys_metric', 'value': 'no'}]}, {'key': 'momentum', 'value': 0.9, 'timestamp': '1642611399302', 'step': '0', 'epoch': '0', 'tags': [{'key': 'sys_metric', 'value': 'no'}]}], 'tags': [{'key': 'sys_metric', 'value': 'no'}]}}\n"
     ]
    },
    {
     "name": "stderr",
     "output_type": "stream",
     "text": [
      "2022-01-19 16:56:40,726 - mmcv - INFO - Epoch [1][20/391]\tlr: 1.000e-03, eta: 1:21:23, time: 0.328, data_time: 0.007, memory: 14, \n"
     ]
    },
    {
     "name": "stdout",
     "output_type": "stream",
     "text": [
      "endpoint:  /api/2.0/mlflow/runs/log-batch {'method': 'POST', 'json': {'run_id': '54d993fa893a4890a7eb84af33803069', 'metrics': [{'key': 'learning_rate', 'value': 0.001, 'timestamp': '1642611400848', 'step': '0', 'epoch': '0', 'tags': [{'key': 'sys_metric', 'value': 'no'}]}, {'key': 'momentum', 'value': 0.9, 'timestamp': '1642611400848', 'step': '0', 'epoch': '0', 'tags': [{'key': 'sys_metric', 'value': 'no'}]}], 'tags': [{'key': 'sys_metric', 'value': 'no'}]}}\n"
     ]
    },
    {
     "name": "stderr",
     "output_type": "stream",
     "text": [
      "2022-01-19 16:56:42,293 - mmcv - INFO - Epoch [1][30/391]\tlr: 1.000e-03, eta: 1:07:01, time: 0.154, data_time: 0.008, memory: 14, \n"
     ]
    },
    {
     "name": "stdout",
     "output_type": "stream",
     "text": [
      "endpoint:  /api/2.0/mlflow/runs/log-batch {'method': 'POST', 'json': {'run_id': '54d993fa893a4890a7eb84af33803069', 'metrics': [{'key': 'learning_rate', 'value': 0.001, 'timestamp': '1642611402440', 'step': '0', 'epoch': '0', 'tags': [{'key': 'sys_metric', 'value': 'no'}]}, {'key': 'momentum', 'value': 0.9, 'timestamp': '1642611402440', 'step': '0', 'epoch': '0', 'tags': [{'key': 'sys_metric', 'value': 'no'}]}], 'tags': [{'key': 'sys_metric', 'value': 'no'}]}}\n"
     ]
    },
    {
     "name": "stderr",
     "output_type": "stream",
     "text": [
      "2022-01-19 16:56:43,950 - mmcv - INFO - Epoch [1][40/391]\tlr: 1.000e-03, eta: 1:00:05, time: 0.160, data_time: 0.011, memory: 14, \n"
     ]
    },
    {
     "name": "stdout",
     "output_type": "stream",
     "text": [
      "endpoint:  /api/2.0/mlflow/runs/log-batch {'method': 'POST', 'json': {'run_id': '54d993fa893a4890a7eb84af33803069', 'metrics': [{'key': 'learning_rate', 'value': 0.001, 'timestamp': '1642611404075', 'step': '0', 'epoch': '0', 'tags': [{'key': 'sys_metric', 'value': 'no'}]}, {'key': 'momentum', 'value': 0.9, 'timestamp': '1642611404075', 'step': '0', 'epoch': '0', 'tags': [{'key': 'sys_metric', 'value': 'no'}]}], 'tags': [{'key': 'sys_metric', 'value': 'no'}]}}\n"
     ]
    },
    {
     "name": "stderr",
     "output_type": "stream",
     "text": [
      "2022-01-19 16:56:45,631 - mmcv - INFO - Epoch [1][50/391]\tlr: 1.000e-03, eta: 0:56:00, time: 0.164, data_time: 0.009, memory: 14, \n"
     ]
    },
    {
     "name": "stdout",
     "output_type": "stream",
     "text": [
      "endpoint:  /api/2.0/mlflow/runs/log-batch {'method': 'POST', 'json': {'run_id': '54d993fa893a4890a7eb84af33803069', 'metrics': [{'key': 'learning_rate', 'value': 0.001, 'timestamp': '1642611405769', 'step': '0', 'epoch': '0', 'tags': [{'key': 'sys_metric', 'value': 'no'}]}, {'key': 'momentum', 'value': 0.9, 'timestamp': '1642611405769', 'step': '0', 'epoch': '0', 'tags': [{'key': 'sys_metric', 'value': 'no'}]}], 'tags': [{'key': 'sys_metric', 'value': 'no'}]}}\n"
     ]
    },
    {
     "name": "stderr",
     "output_type": "stream",
     "text": [
      "2022-01-19 16:56:47,360 - mmcv - INFO - Epoch [1][60/391]\tlr: 1.000e-03, eta: 0:53:26, time: 0.169, data_time: 0.010, memory: 14, \n"
     ]
    },
    {
     "name": "stdout",
     "output_type": "stream",
     "text": [
      "endpoint:  /api/2.0/mlflow/runs/log-batch {'method': 'POST', 'json': {'run_id': '54d993fa893a4890a7eb84af33803069', 'metrics': [{'key': 'learning_rate', 'value': 0.001, 'timestamp': '1642611407505', 'step': '0', 'epoch': '0', 'tags': [{'key': 'sys_metric', 'value': 'no'}]}, {'key': 'momentum', 'value': 0.9, 'timestamp': '1642611407505', 'step': '0', 'epoch': '0', 'tags': [{'key': 'sys_metric', 'value': 'no'}]}], 'tags': [{'key': 'sys_metric', 'value': 'no'}]}}\n"
     ]
    },
    {
     "name": "stderr",
     "output_type": "stream",
     "text": [
      "2022-01-19 16:56:48,934 - mmcv - INFO - Epoch [1][70/391]\tlr: 1.000e-03, eta: 0:51:40, time: 0.174, data_time: 0.011, memory: 14, \n"
     ]
    },
    {
     "name": "stdout",
     "output_type": "stream",
     "text": [
      "endpoint:  /api/2.0/mlflow/runs/log-batch {'method': 'POST', 'json': {'run_id': '54d993fa893a4890a7eb84af33803069', 'metrics': [{'key': 'learning_rate', 'value': 0.001, 'timestamp': '1642611409078', 'step': '0', 'epoch': '0', 'tags': [{'key': 'sys_metric', 'value': 'no'}]}, {'key': 'momentum', 'value': 0.9, 'timestamp': '1642611409078', 'step': '0', 'epoch': '0', 'tags': [{'key': 'sys_metric', 'value': 'no'}]}], 'tags': [{'key': 'sys_metric', 'value': 'no'}]}}\n"
     ]
    },
    {
     "name": "stderr",
     "output_type": "stream",
     "text": [
      "2022-01-19 16:56:50,521 - mmcv - INFO - Epoch [1][80/391]\tlr: 1.000e-03, eta: 0:49:46, time: 0.157, data_time: 0.011, memory: 14, \n"
     ]
    },
    {
     "name": "stdout",
     "output_type": "stream",
     "text": [
      "endpoint:  /api/2.0/mlflow/runs/log-batch {'method': 'POST', 'json': {'run_id': '54d993fa893a4890a7eb84af33803069', 'metrics': [{'key': 'learning_rate', 'value': 0.001, 'timestamp': '1642611410667', 'step': '0', 'epoch': '0', 'tags': [{'key': 'sys_metric', 'value': 'no'}]}, {'key': 'momentum', 'value': 0.9, 'timestamp': '1642611410667', 'step': '0', 'epoch': '0', 'tags': [{'key': 'sys_metric', 'value': 'no'}]}], 'tags': [{'key': 'sys_metric', 'value': 'no'}]}}\n"
     ]
    },
    {
     "name": "stderr",
     "output_type": "stream",
     "text": [
      "2022-01-19 16:56:52,197 - mmcv - INFO - Epoch [1][90/391]\tlr: 1.000e-03, eta: 0:48:17, time: 0.159, data_time: 0.011, memory: 14, \n"
     ]
    },
    {
     "name": "stdout",
     "output_type": "stream",
     "text": [
      "endpoint:  /api/2.0/mlflow/runs/log-batch {'method': 'POST', 'json': {'run_id': '54d993fa893a4890a7eb84af33803069', 'metrics': [{'key': 'learning_rate', 'value': 0.001, 'timestamp': '1642611412318', 'step': '0', 'epoch': '0', 'tags': [{'key': 'sys_metric', 'value': 'no'}]}, {'key': 'momentum', 'value': 0.9, 'timestamp': '1642611412318', 'step': '0', 'epoch': '0', 'tags': [{'key': 'sys_metric', 'value': 'no'}]}], 'tags': [{'key': 'sys_metric', 'value': 'no'}]}}\n"
     ]
    },
    {
     "name": "stderr",
     "output_type": "stream",
     "text": [
      "2022-01-19 16:56:53,998 - mmcv - INFO - Epoch [1][100/391]\tlr: 1.000e-03, eta: 0:48:13, time: 0.207, data_time: 0.030, memory: 14, \n"
     ]
    },
    {
     "name": "stdout",
     "output_type": "stream",
     "text": [
      "endpoint:  /api/2.0/mlflow/runs/log-batch {'method': 'POST', 'json': {'run_id': '54d993fa893a4890a7eb84af33803069', 'metrics': [{'key': 'learning_rate', 'value': 0.001, 'timestamp': '1642611414110', 'step': '0', 'epoch': '0', 'tags': [{'key': 'sys_metric', 'value': 'no'}]}, {'key': 'momentum', 'value': 0.9, 'timestamp': '1642611414110', 'step': '0', 'epoch': '0', 'tags': [{'key': 'sys_metric', 'value': 'no'}]}], 'tags': [{'key': 'sys_metric', 'value': 'no'}]}}\n"
     ]
    },
    {
     "name": "stderr",
     "output_type": "stream",
     "text": [
      "2022-01-19 16:56:55,611 - mmcv - INFO - Epoch [1][110/391]\tlr: 1.000e-03, eta: 0:47:29, time: 0.179, data_time: 0.007, memory: 14, \n"
     ]
    },
    {
     "name": "stdout",
     "output_type": "stream",
     "text": [
      "endpoint:  /api/2.0/mlflow/runs/log-batch {'method': 'POST', 'json': {'run_id': '54d993fa893a4890a7eb84af33803069', 'metrics': [{'key': 'learning_rate', 'value': 0.001, 'timestamp': '1642611415723', 'step': '0', 'epoch': '0', 'tags': [{'key': 'sys_metric', 'value': 'no'}]}, {'key': 'momentum', 'value': 0.9, 'timestamp': '1642611415723', 'step': '0', 'epoch': '0', 'tags': [{'key': 'sys_metric', 'value': 'no'}]}], 'tags': [{'key': 'sys_metric', 'value': 'no'}]}}\n"
     ]
    },
    {
     "name": "stderr",
     "output_type": "stream",
     "text": [
      "2022-01-19 16:56:57,339 - mmcv - INFO - Epoch [1][120/391]\tlr: 1.000e-03, eta: 0:46:28, time: 0.161, data_time: 0.007, memory: 14, \n"
     ]
    },
    {
     "name": "stdout",
     "output_type": "stream",
     "text": [
      "endpoint:  /api/2.0/mlflow/runs/log-batch {'method': 'POST', 'json': {'run_id': '54d993fa893a4890a7eb84af33803069', 'metrics': [{'key': 'learning_rate', 'value': 0.001, 'timestamp': '1642611417460', 'step': '0', 'epoch': '0', 'tags': [{'key': 'sys_metric', 'value': 'no'}]}, {'key': 'momentum', 'value': 0.9, 'timestamp': '1642611417460', 'step': '0', 'epoch': '0', 'tags': [{'key': 'sys_metric', 'value': 'no'}]}], 'tags': [{'key': 'sys_metric', 'value': 'no'}]}}\n"
     ]
    },
    {
     "name": "stderr",
     "output_type": "stream",
     "text": [
      "2022-01-19 16:56:58,836 - mmcv - INFO - Epoch [1][130/391]\tlr: 1.000e-03, eta: 0:45:47, time: 0.174, data_time: 0.008, memory: 14, \n"
     ]
    },
    {
     "name": "stdout",
     "output_type": "stream",
     "text": [
      "endpoint:  /api/2.0/mlflow/runs/log-batch {'method': 'POST', 'json': {'run_id': '54d993fa893a4890a7eb84af33803069', 'metrics': [{'key': 'learning_rate', 'value': 0.001, 'timestamp': '1642611418949', 'step': '0', 'epoch': '0', 'tags': [{'key': 'sys_metric', 'value': 'no'}]}, {'key': 'momentum', 'value': 0.9, 'timestamp': '1642611418949', 'step': '0', 'epoch': '0', 'tags': [{'key': 'sys_metric', 'value': 'no'}]}], 'tags': [{'key': 'sys_metric', 'value': 'no'}]}}\n"
     ]
    },
    {
     "name": "stderr",
     "output_type": "stream",
     "text": [
      "2022-01-19 16:57:00,484 - mmcv - INFO - Epoch [1][140/391]\tlr: 1.000e-03, eta: 0:44:45, time: 0.149, data_time: 0.007, memory: 14, \n"
     ]
    },
    {
     "name": "stdout",
     "output_type": "stream",
     "text": [
      "endpoint:  /api/2.0/mlflow/runs/log-batch {'method': 'POST', 'json': {'run_id': '54d993fa893a4890a7eb84af33803069', 'metrics': [{'key': 'learning_rate', 'value': 0.001, 'timestamp': '1642611420596', 'step': '0', 'epoch': '0', 'tags': [{'key': 'sys_metric', 'value': 'no'}]}, {'key': 'momentum', 'value': 0.9, 'timestamp': '1642611420596', 'step': '0', 'epoch': '0', 'tags': [{'key': 'sys_metric', 'value': 'no'}]}], 'tags': [{'key': 'sys_metric', 'value': 'no'}]}}\n"
     ]
    },
    {
     "name": "stderr",
     "output_type": "stream",
     "text": [
      "2022-01-19 16:57:02,139 - mmcv - INFO - Epoch [1][150/391]\tlr: 1.000e-03, eta: 0:44:03, time: 0.165, data_time: 0.007, memory: 14, \n"
     ]
    },
    {
     "name": "stdout",
     "output_type": "stream",
     "text": [
      "endpoint:  /api/2.0/mlflow/runs/log-batch {'method': 'POST', 'json': {'run_id': '54d993fa893a4890a7eb84af33803069', 'metrics': [{'key': 'learning_rate', 'value': 0.001, 'timestamp': '1642611422248', 'step': '0', 'epoch': '0', 'tags': [{'key': 'sys_metric', 'value': 'no'}]}, {'key': 'momentum', 'value': 0.9, 'timestamp': '1642611422248', 'step': '0', 'epoch': '0', 'tags': [{'key': 'sys_metric', 'value': 'no'}]}], 'tags': [{'key': 'sys_metric', 'value': 'no'}]}}\n"
     ]
    },
    {
     "name": "stderr",
     "output_type": "stream",
     "text": [
      "2022-01-19 16:57:03,679 - mmcv - INFO - Epoch [1][160/391]\tlr: 1.000e-03, eta: 0:43:25, time: 0.165, data_time: 0.007, memory: 14, \n"
     ]
    },
    {
     "name": "stdout",
     "output_type": "stream",
     "text": [
      "endpoint:  /api/2.0/mlflow/runs/log-batch {'method': 'POST', 'json': {'run_id': '54d993fa893a4890a7eb84af33803069', 'metrics': [{'key': 'learning_rate', 'value': 0.001, 'timestamp': '1642611423794', 'step': '0', 'epoch': '0', 'tags': [{'key': 'sys_metric', 'value': 'no'}]}, {'key': 'momentum', 'value': 0.9, 'timestamp': '1642611423794', 'step': '0', 'epoch': '0', 'tags': [{'key': 'sys_metric', 'value': 'no'}]}], 'tags': [{'key': 'sys_metric', 'value': 'no'}]}}\n"
     ]
    },
    {
     "name": "stderr",
     "output_type": "stream",
     "text": [
      "2022-01-19 16:57:05,284 - mmcv - INFO - Epoch [1][170/391]\tlr: 1.000e-03, eta: 0:42:41, time: 0.154, data_time: 0.007, memory: 14, \n"
     ]
    },
    {
     "name": "stdout",
     "output_type": "stream",
     "text": [
      "endpoint:  /api/2.0/mlflow/runs/log-batch {'method': 'POST', 'json': {'run_id': '54d993fa893a4890a7eb84af33803069', 'metrics': [{'key': 'learning_rate', 'value': 0.001, 'timestamp': '1642611425410', 'step': '0', 'epoch': '0', 'tags': [{'key': 'sys_metric', 'value': 'no'}]}, {'key': 'momentum', 'value': 0.9, 'timestamp': '1642611425410', 'step': '0', 'epoch': '0', 'tags': [{'key': 'sys_metric', 'value': 'no'}]}], 'tags': [{'key': 'sys_metric', 'value': 'no'}]}}\n"
     ]
    },
    {
     "name": "stderr",
     "output_type": "stream",
     "text": [
      "2022-01-19 16:57:06,980 - mmcv - INFO - Epoch [1][180/391]\tlr: 1.000e-03, eta: 0:42:06, time: 0.162, data_time: 0.008, memory: 14, \n"
     ]
    },
    {
     "name": "stdout",
     "output_type": "stream",
     "text": [
      "endpoint:  /api/2.0/mlflow/runs/log-batch {'method': 'POST', 'json': {'run_id': '54d993fa893a4890a7eb84af33803069', 'metrics': [{'key': 'learning_rate', 'value': 0.001, 'timestamp': '1642611427094', 'step': '0', 'epoch': '0', 'tags': [{'key': 'sys_metric', 'value': 'no'}]}, {'key': 'momentum', 'value': 0.9, 'timestamp': '1642611427094', 'step': '0', 'epoch': '0', 'tags': [{'key': 'sys_metric', 'value': 'no'}]}], 'tags': [{'key': 'sys_metric', 'value': 'no'}]}}\n"
     ]
    },
    {
     "name": "stderr",
     "output_type": "stream",
     "text": [
      "2022-01-19 16:57:08,661 - mmcv - INFO - Epoch [1][190/391]\tlr: 1.000e-03, eta: 0:41:37, time: 0.169, data_time: 0.007, memory: 14, \n"
     ]
    },
    {
     "name": "stdout",
     "output_type": "stream",
     "text": [
      "endpoint:  /api/2.0/mlflow/runs/log-batch {'method': 'POST', 'json': {'run_id': '54d993fa893a4890a7eb84af33803069', 'metrics': [{'key': 'learning_rate', 'value': 0.001, 'timestamp': '1642611428773', 'step': '0', 'epoch': '0', 'tags': [{'key': 'sys_metric', 'value': 'no'}]}, {'key': 'momentum', 'value': 0.9, 'timestamp': '1642611428773', 'step': '0', 'epoch': '0', 'tags': [{'key': 'sys_metric', 'value': 'no'}]}], 'tags': [{'key': 'sys_metric', 'value': 'no'}]}}\n"
     ]
    },
    {
     "name": "stderr",
     "output_type": "stream",
     "text": [
      "2022-01-19 16:57:10,213 - mmcv - INFO - Epoch [1][200/391]\tlr: 1.000e-03, eta: 0:41:06, time: 0.162, data_time: 0.007, memory: 14, \n"
     ]
    },
    {
     "name": "stdout",
     "output_type": "stream",
     "text": [
      "endpoint:  /api/2.0/mlflow/runs/log-batch {'method': 'POST', 'json': {'run_id': '54d993fa893a4890a7eb84af33803069', 'metrics': [{'key': 'learning_rate', 'value': 0.001, 'timestamp': '1642611430328', 'step': '0', 'epoch': '0', 'tags': [{'key': 'sys_metric', 'value': 'no'}]}, {'key': 'momentum', 'value': 0.9, 'timestamp': '1642611430328', 'step': '0', 'epoch': '0', 'tags': [{'key': 'sys_metric', 'value': 'no'}]}], 'tags': [{'key': 'sys_metric', 'value': 'no'}]}}\n"
     ]
    },
    {
     "name": "stderr",
     "output_type": "stream",
     "text": [
      "2022-01-19 16:57:11,904 - mmcv - INFO - Epoch [1][210/391]\tlr: 1.000e-03, eta: 0:40:31, time: 0.155, data_time: 0.007, memory: 14, \n"
     ]
    },
    {
     "name": "stdout",
     "output_type": "stream",
     "text": [
      "endpoint:  /api/2.0/mlflow/runs/log-batch {'method': 'POST', 'json': {'run_id': '54d993fa893a4890a7eb84af33803069', 'metrics': [{'key': 'learning_rate', 'value': 0.001, 'timestamp': '1642611432049', 'step': '0', 'epoch': '0', 'tags': [{'key': 'sys_metric', 'value': 'no'}]}, {'key': 'momentum', 'value': 0.9, 'timestamp': '1642611432049', 'step': '0', 'epoch': '0', 'tags': [{'key': 'sys_metric', 'value': 'no'}]}], 'tags': [{'key': 'sys_metric', 'value': 'no'}]}}\n"
     ]
    },
    {
     "name": "stderr",
     "output_type": "stream",
     "text": [
      "2022-01-19 16:57:13,590 - mmcv - INFO - Epoch [1][220/391]\tlr: 1.000e-03, eta: 0:40:08, time: 0.171, data_time: 0.010, memory: 14, \n"
     ]
    },
    {
     "name": "stdout",
     "output_type": "stream",
     "text": [
      "endpoint:  /api/2.0/mlflow/runs/log-batch {'method': 'POST', 'json': {'run_id': '54d993fa893a4890a7eb84af33803069', 'metrics': [{'key': 'learning_rate', 'value': 0.001, 'timestamp': '1642611433703', 'step': '0', 'epoch': '0', 'tags': [{'key': 'sys_metric', 'value': 'no'}]}, {'key': 'momentum', 'value': 0.9, 'timestamp': '1642611433703', 'step': '0', 'epoch': '0', 'tags': [{'key': 'sys_metric', 'value': 'no'}]}], 'tags': [{'key': 'sys_metric', 'value': 'no'}]}}\n"
     ]
    },
    {
     "name": "stderr",
     "output_type": "stream",
     "text": [
      "2022-01-19 16:57:15,117 - mmcv - INFO - Epoch [1][230/391]\tlr: 1.000e-03, eta: 0:39:43, time: 0.166, data_time: 0.007, memory: 14, \n"
     ]
    },
    {
     "name": "stdout",
     "output_type": "stream",
     "text": [
      "endpoint:  /api/2.0/mlflow/runs/log-batch {'method': 'POST', 'json': {'run_id': '54d993fa893a4890a7eb84af33803069', 'metrics': [{'key': 'learning_rate', 'value': 0.001, 'timestamp': '1642611435230', 'step': '0', 'epoch': '0', 'tags': [{'key': 'sys_metric', 'value': 'no'}]}, {'key': 'momentum', 'value': 0.9, 'timestamp': '1642611435230', 'step': '0', 'epoch': '0', 'tags': [{'key': 'sys_metric', 'value': 'no'}]}], 'tags': [{'key': 'sys_metric', 'value': 'no'}]}}\n"
     ]
    },
    {
     "name": "stderr",
     "output_type": "stream",
     "text": [
      "2022-01-19 16:57:16,650 - mmcv - INFO - Epoch [1][240/391]\tlr: 1.000e-03, eta: 0:39:11, time: 0.153, data_time: 0.007, memory: 14, \n"
     ]
    },
    {
     "name": "stdout",
     "output_type": "stream",
     "text": [
      "endpoint:  /api/2.0/mlflow/runs/log-batch {'method': 'POST', 'json': {'run_id': '54d993fa893a4890a7eb84af33803069', 'metrics': [{'key': 'learning_rate', 'value': 0.001, 'timestamp': '1642611436764', 'step': '0', 'epoch': '0', 'tags': [{'key': 'sys_metric', 'value': 'no'}]}, {'key': 'momentum', 'value': 0.9, 'timestamp': '1642611436764', 'step': '0', 'epoch': '0', 'tags': [{'key': 'sys_metric', 'value': 'no'}]}], 'tags': [{'key': 'sys_metric', 'value': 'no'}]}}\n"
     ]
    },
    {
     "name": "stderr",
     "output_type": "stream",
     "text": [
      "2022-01-19 16:57:18,230 - mmcv - INFO - Epoch [1][250/391]\tlr: 1.000e-03, eta: 0:38:40, time: 0.153, data_time: 0.007, memory: 14, \n"
     ]
    },
    {
     "name": "stdout",
     "output_type": "stream",
     "text": [
      "endpoint:  /api/2.0/mlflow/runs/log-batch {'method': 'POST', 'json': {'run_id': '54d993fa893a4890a7eb84af33803069', 'metrics': [{'key': 'learning_rate', 'value': 0.001, 'timestamp': '1642611438359', 'step': '0', 'epoch': '0', 'tags': [{'key': 'sys_metric', 'value': 'no'}]}, {'key': 'momentum', 'value': 0.9, 'timestamp': '1642611438359', 'step': '0', 'epoch': '0', 'tags': [{'key': 'sys_metric', 'value': 'no'}]}], 'tags': [{'key': 'sys_metric', 'value': 'no'}]}}\n"
     ]
    },
    {
     "name": "stderr",
     "output_type": "stream",
     "text": [
      "2022-01-19 16:57:19,966 - mmcv - INFO - Epoch [1][260/391]\tlr: 1.000e-03, eta: 0:38:14, time: 0.160, data_time: 0.009, memory: 14, \n"
     ]
    },
    {
     "name": "stdout",
     "output_type": "stream",
     "text": [
      "endpoint:  /api/2.0/mlflow/runs/log-batch {'method': 'POST', 'json': {'run_id': '54d993fa893a4890a7eb84af33803069', 'metrics': [{'key': 'learning_rate', 'value': 0.001, 'timestamp': '1642611440111', 'step': '0', 'epoch': '0', 'tags': [{'key': 'sys_metric', 'value': 'no'}]}, {'key': 'momentum', 'value': 0.9, 'timestamp': '1642611440111', 'step': '0', 'epoch': '0', 'tags': [{'key': 'sys_metric', 'value': 'no'}]}], 'tags': [{'key': 'sys_metric', 'value': 'no'}]}}\n"
     ]
    },
    {
     "name": "stderr",
     "output_type": "stream",
     "text": [
      "2022-01-19 16:57:21,544 - mmcv - INFO - Epoch [1][270/391]\tlr: 1.000e-03, eta: 0:37:56, time: 0.175, data_time: 0.011, memory: 14, \n"
     ]
    },
    {
     "name": "stdout",
     "output_type": "stream",
     "text": [
      "endpoint:  /api/2.0/mlflow/runs/log-batch {'method': 'POST', 'json': {'run_id': '54d993fa893a4890a7eb84af33803069', 'metrics': [{'key': 'learning_rate', 'value': 0.001, 'timestamp': '1642611441661', 'step': '0', 'epoch': '0', 'tags': [{'key': 'sys_metric', 'value': 'no'}]}, {'key': 'momentum', 'value': 0.9, 'timestamp': '1642611441661', 'step': '0', 'epoch': '0', 'tags': [{'key': 'sys_metric', 'value': 'no'}]}], 'tags': [{'key': 'sys_metric', 'value': 'no'}]}}\n"
     ]
    },
    {
     "name": "stderr",
     "output_type": "stream",
     "text": [
      "2022-01-19 16:57:23,173 - mmcv - INFO - Epoch [1][280/391]\tlr: 1.000e-03, eta: 0:37:29, time: 0.155, data_time: 0.007, memory: 14, \n"
     ]
    },
    {
     "name": "stdout",
     "output_type": "stream",
     "text": [
      "endpoint:  /api/2.0/mlflow/runs/log-batch {'method': 'POST', 'json': {'run_id': '54d993fa893a4890a7eb84af33803069', 'metrics': [{'key': 'learning_rate', 'value': 0.001, 'timestamp': '1642611443320', 'step': '0', 'epoch': '0', 'tags': [{'key': 'sys_metric', 'value': 'no'}]}, {'key': 'momentum', 'value': 0.9, 'timestamp': '1642611443320', 'step': '0', 'epoch': '0', 'tags': [{'key': 'sys_metric', 'value': 'no'}]}], 'tags': [{'key': 'sys_metric', 'value': 'no'}]}}\n"
     ]
    },
    {
     "name": "stderr",
     "output_type": "stream",
     "text": [
      "2022-01-19 16:57:24,857 - mmcv - INFO - Epoch [1][290/391]\tlr: 1.000e-03, eta: 0:37:07, time: 0.166, data_time: 0.011, memory: 14, \n"
     ]
    },
    {
     "name": "stdout",
     "output_type": "stream",
     "text": [
      "endpoint:  /api/2.0/mlflow/runs/log-batch {'method': 'POST', 'json': {'run_id': '54d993fa893a4890a7eb84af33803069', 'metrics': [{'key': 'learning_rate', 'value': 0.001, 'timestamp': '1642611445004', 'step': '0', 'epoch': '0', 'tags': [{'key': 'sys_metric', 'value': 'no'}]}, {'key': 'momentum', 'value': 0.9, 'timestamp': '1642611445004', 'step': '0', 'epoch': '0', 'tags': [{'key': 'sys_metric', 'value': 'no'}]}], 'tags': [{'key': 'sys_metric', 'value': 'no'}]}}\n"
     ]
    },
    {
     "name": "stderr",
     "output_type": "stream",
     "text": [
      "2022-01-19 16:57:26,508 - mmcv - INFO - Epoch [1][300/391]\tlr: 1.000e-03, eta: 0:36:45, time: 0.163, data_time: 0.009, memory: 14, \n"
     ]
    },
    {
     "name": "stdout",
     "output_type": "stream",
     "text": [
      "endpoint:  /api/2.0/mlflow/runs/log-batch {'method': 'POST', 'json': {'run_id': '54d993fa893a4890a7eb84af33803069', 'metrics': [{'key': 'learning_rate', 'value': 0.001, 'timestamp': '1642611446621', 'step': '0', 'epoch': '0', 'tags': [{'key': 'sys_metric', 'value': 'no'}]}, {'key': 'momentum', 'value': 0.9, 'timestamp': '1642611446621', 'step': '0', 'epoch': '0', 'tags': [{'key': 'sys_metric', 'value': 'no'}]}], 'tags': [{'key': 'sys_metric', 'value': 'no'}]}}\n"
     ]
    },
    {
     "name": "stderr",
     "output_type": "stream",
     "text": [
      "2022-01-19 16:57:28,145 - mmcv - INFO - Epoch [1][310/391]\tlr: 1.000e-03, eta: 0:36:22, time: 0.162, data_time: 0.007, memory: 14, \n"
     ]
    },
    {
     "name": "stdout",
     "output_type": "stream",
     "text": [
      "endpoint:  /api/2.0/mlflow/runs/log-batch {'method': 'POST', 'json': {'run_id': '54d993fa893a4890a7eb84af33803069', 'metrics': [{'key': 'learning_rate', 'value': 0.001, 'timestamp': '1642611448270', 'step': '0', 'epoch': '0', 'tags': [{'key': 'sys_metric', 'value': 'no'}]}, {'key': 'momentum', 'value': 0.9, 'timestamp': '1642611448270', 'step': '0', 'epoch': '0', 'tags': [{'key': 'sys_metric', 'value': 'no'}]}], 'tags': [{'key': 'sys_metric', 'value': 'no'}]}}\n"
     ]
    },
    {
     "name": "stderr",
     "output_type": "stream",
     "text": [
      "2022-01-19 16:57:29,651 - mmcv - INFO - Epoch [1][320/391]\tlr: 1.000e-03, eta: 0:36:01, time: 0.165, data_time: 0.008, memory: 14, \n"
     ]
    },
    {
     "name": "stdout",
     "output_type": "stream",
     "text": [
      "endpoint:  /api/2.0/mlflow/runs/log-batch {'method': 'POST', 'json': {'run_id': '54d993fa893a4890a7eb84af33803069', 'metrics': [{'key': 'learning_rate', 'value': 0.001, 'timestamp': '1642611449764', 'step': '0', 'epoch': '0', 'tags': [{'key': 'sys_metric', 'value': 'no'}]}, {'key': 'momentum', 'value': 0.9, 'timestamp': '1642611449764', 'step': '0', 'epoch': '0', 'tags': [{'key': 'sys_metric', 'value': 'no'}]}], 'tags': [{'key': 'sys_metric', 'value': 'no'}]}}\n"
     ]
    },
    {
     "name": "stderr",
     "output_type": "stream",
     "text": [
      "2022-01-19 16:57:31,241 - mmcv - INFO - Epoch [1][330/391]\tlr: 1.000e-03, eta: 0:35:35, time: 0.149, data_time: 0.007, memory: 14, \n"
     ]
    },
    {
     "name": "stdout",
     "output_type": "stream",
     "text": [
      "endpoint:  /api/2.0/mlflow/runs/log-batch {'method': 'POST', 'json': {'run_id': '54d993fa893a4890a7eb84af33803069', 'metrics': [{'key': 'learning_rate', 'value': 0.001, 'timestamp': '1642611451364', 'step': '0', 'epoch': '0', 'tags': [{'key': 'sys_metric', 'value': 'no'}]}, {'key': 'momentum', 'value': 0.9, 'timestamp': '1642611451364', 'step': '0', 'epoch': '0', 'tags': [{'key': 'sys_metric', 'value': 'no'}]}], 'tags': [{'key': 'sys_metric', 'value': 'no'}]}}\n"
     ]
    },
    {
     "name": "stderr",
     "output_type": "stream",
     "text": [
      "2022-01-19 16:57:32,748 - mmcv - INFO - Epoch [1][340/391]\tlr: 1.000e-03, eta: 0:35:13, time: 0.160, data_time: 0.008, memory: 14, \n"
     ]
    },
    {
     "name": "stdout",
     "output_type": "stream",
     "text": [
      "endpoint:  /api/2.0/mlflow/runs/log-batch {'method': 'POST', 'json': {'run_id': '54d993fa893a4890a7eb84af33803069', 'metrics': [{'key': 'learning_rate', 'value': 0.001, 'timestamp': '1642611452886', 'step': '0', 'epoch': '0', 'tags': [{'key': 'sys_metric', 'value': 'no'}]}, {'key': 'momentum', 'value': 0.9, 'timestamp': '1642611452886', 'step': '0', 'epoch': '0', 'tags': [{'key': 'sys_metric', 'value': 'no'}]}], 'tags': [{'key': 'sys_metric', 'value': 'no'}]}}\n"
     ]
    },
    {
     "name": "stderr",
     "output_type": "stream",
     "text": [
      "2022-01-19 16:57:34,389 - mmcv - INFO - Epoch [1][350/391]\tlr: 1.000e-03, eta: 0:34:48, time: 0.152, data_time: 0.009, memory: 14, \n"
     ]
    },
    {
     "name": "stdout",
     "output_type": "stream",
     "text": [
      "endpoint:  /api/2.0/mlflow/runs/log-batch {'method': 'POST', 'json': {'run_id': '54d993fa893a4890a7eb84af33803069', 'metrics': [{'key': 'learning_rate', 'value': 0.001, 'timestamp': '1642611454502', 'step': '0', 'epoch': '0', 'tags': [{'key': 'sys_metric', 'value': 'no'}]}, {'key': 'momentum', 'value': 0.9, 'timestamp': '1642611454502', 'step': '0', 'epoch': '0', 'tags': [{'key': 'sys_metric', 'value': 'no'}]}], 'tags': [{'key': 'sys_metric', 'value': 'no'}]}}\n"
     ]
    },
    {
     "name": "stderr",
     "output_type": "stream",
     "text": [
      "2022-01-19 16:57:36,062 - mmcv - INFO - Epoch [1][360/391]\tlr: 1.000e-03, eta: 0:34:28, time: 0.161, data_time: 0.007, memory: 14, \n"
     ]
    },
    {
     "name": "stdout",
     "output_type": "stream",
     "text": [
      "endpoint:  /api/2.0/mlflow/runs/log-batch {'method': 'POST', 'json': {'run_id': '54d993fa893a4890a7eb84af33803069', 'metrics': [{'key': 'learning_rate', 'value': 0.001, 'timestamp': '1642611456177', 'step': '0', 'epoch': '0', 'tags': [{'key': 'sys_metric', 'value': 'no'}]}, {'key': 'momentum', 'value': 0.9, 'timestamp': '1642611456177', 'step': '0', 'epoch': '0', 'tags': [{'key': 'sys_metric', 'value': 'no'}]}], 'tags': [{'key': 'sys_metric', 'value': 'no'}]}}\n"
     ]
    },
    {
     "name": "stderr",
     "output_type": "stream",
     "text": [
      "2022-01-19 16:57:37,697 - mmcv - INFO - Epoch [1][370/391]\tlr: 1.000e-03, eta: 0:34:09, time: 0.168, data_time: 0.007, memory: 14, \n"
     ]
    },
    {
     "name": "stdout",
     "output_type": "stream",
     "text": [
      "endpoint:  /api/2.0/mlflow/runs/log-batch {'method': 'POST', 'json': {'run_id': '54d993fa893a4890a7eb84af33803069', 'metrics': [{'key': 'learning_rate', 'value': 0.001, 'timestamp': '1642611457811', 'step': '0', 'epoch': '0', 'tags': [{'key': 'sys_metric', 'value': 'no'}]}, {'key': 'momentum', 'value': 0.9, 'timestamp': '1642611457811', 'step': '0', 'epoch': '0', 'tags': [{'key': 'sys_metric', 'value': 'no'}]}], 'tags': [{'key': 'sys_metric', 'value': 'no'}]}}\n"
     ]
    },
    {
     "name": "stderr",
     "output_type": "stream",
     "text": [
      "2022-01-19 16:57:39,417 - mmcv - INFO - Epoch [1][380/391]\tlr: 1.000e-03, eta: 0:33:49, time: 0.163, data_time: 0.007, memory: 14, \n"
     ]
    },
    {
     "name": "stdout",
     "output_type": "stream",
     "text": [
      "endpoint:  /api/2.0/mlflow/runs/log-batch {'method': 'POST', 'json': {'run_id': '54d993fa893a4890a7eb84af33803069', 'metrics': [{'key': 'learning_rate', 'value': 0.001, 'timestamp': '1642611459532', 'step': '0', 'epoch': '0', 'tags': [{'key': 'sys_metric', 'value': 'no'}]}, {'key': 'momentum', 'value': 0.9, 'timestamp': '1642611459532', 'step': '0', 'epoch': '0', 'tags': [{'key': 'sys_metric', 'value': 'no'}]}], 'tags': [{'key': 'sys_metric', 'value': 'no'}]}}\n"
     ]
    },
    {
     "name": "stderr",
     "output_type": "stream",
     "text": [
      "2022-01-19 16:57:41,121 - mmcv - INFO - Epoch [1][390/391]\tlr: 1.000e-03, eta: 0:33:32, time: 0.172, data_time: 0.007, memory: 14, \n",
      "2022-01-19 16:57:41,159 - mmcv - INFO - Saving checkpoint at 1 epochs\n"
     ]
    },
    {
     "name": "stdout",
     "output_type": "stream",
     "text": [
      "endpoint:  /api/2.0/mlflow/runs/log-batch {'method': 'POST', 'json': {'run_id': '54d993fa893a4890a7eb84af33803069', 'metrics': [{'key': 'learning_rate', 'value': 0.001, 'timestamp': '1642611463461', 'step': '1', 'epoch': '1', 'tags': [{'key': 'sys_metric', 'value': 'no'}]}, {'key': 'momentum', 'value': 0.9, 'timestamp': '1642611463461', 'step': '1', 'epoch': '1', 'tags': [{'key': 'sys_metric', 'value': 'no'}]}], 'tags': [{'key': 'sys_metric', 'value': 'no'}]}}\n"
     ]
    },
    {
     "name": "stderr",
     "output_type": "stream",
     "text": [
      "2022-01-19 16:57:45,083 - mmcv - INFO - Epoch [2][10/391]\tlr: 1.000e-03, eta: 0:33:32, time: 0.251, data_time: 0.225, memory: 14, \n"
     ]
    },
    {
     "name": "stdout",
     "output_type": "stream",
     "text": [
      "endpoint:  /api/2.0/mlflow/runs/log-batch {'method': 'POST', 'json': {'run_id': '54d993fa893a4890a7eb84af33803069', 'metrics': [{'key': 'learning_rate', 'value': 0.001, 'timestamp': '1642611465201', 'step': '1', 'epoch': '1', 'tags': [{'key': 'sys_metric', 'value': 'no'}]}, {'key': 'momentum', 'value': 0.9, 'timestamp': '1642611465201', 'step': '1', 'epoch': '1', 'tags': [{'key': 'sys_metric', 'value': 'no'}]}], 'tags': [{'key': 'sys_metric', 'value': 'no'}]}}\n"
     ]
    },
    {
     "name": "stderr",
     "output_type": "stream",
     "text": [
      "2022-01-19 16:57:46,736 - mmcv - INFO - Epoch [2][20/391]\tlr: 1.000e-03, eta: 0:33:16, time: 0.177, data_time: 0.007, memory: 14, \n"
     ]
    },
    {
     "name": "stdout",
     "output_type": "stream",
     "text": [
      "endpoint:  /api/2.0/mlflow/runs/log-batch {'method': 'POST', 'json': {'run_id': '54d993fa893a4890a7eb84af33803069', 'metrics': [{'key': 'learning_rate', 'value': 0.001, 'timestamp': '1642611466854', 'step': '1', 'epoch': '1', 'tags': [{'key': 'sys_metric', 'value': 'no'}]}, {'key': 'momentum', 'value': 0.9, 'timestamp': '1642611466854', 'step': '1', 'epoch': '1', 'tags': [{'key': 'sys_metric', 'value': 'no'}]}], 'tags': [{'key': 'sys_metric', 'value': 'no'}]}}\n"
     ]
    },
    {
     "name": "stderr",
     "output_type": "stream",
     "text": [
      "2022-01-19 16:57:48,268 - mmcv - INFO - Epoch [2][30/391]\tlr: 1.000e-03, eta: 0:32:56, time: 0.165, data_time: 0.007, memory: 14, \n"
     ]
    },
    {
     "name": "stdout",
     "output_type": "stream",
     "text": [
      "endpoint:  /api/2.0/mlflow/runs/log-batch {'method': 'POST', 'json': {'run_id': '54d993fa893a4890a7eb84af33803069', 'metrics': [{'key': 'learning_rate', 'value': 0.001, 'timestamp': '1642611468382', 'step': '1', 'epoch': '1', 'tags': [{'key': 'sys_metric', 'value': 'no'}]}, {'key': 'momentum', 'value': 0.9, 'timestamp': '1642611468382', 'step': '1', 'epoch': '1', 'tags': [{'key': 'sys_metric', 'value': 'no'}]}], 'tags': [{'key': 'sys_metric', 'value': 'no'}]}}\n"
     ]
    },
    {
     "name": "stderr",
     "output_type": "stream",
     "text": [
      "2022-01-19 16:57:49,801 - mmcv - INFO - Epoch [2][40/391]\tlr: 1.000e-03, eta: 0:32:33, time: 0.153, data_time: 0.007, memory: 14, \n"
     ]
    },
    {
     "name": "stdout",
     "output_type": "stream",
     "text": [
      "endpoint:  /api/2.0/mlflow/runs/log-batch {'method': 'POST', 'json': {'run_id': '54d993fa893a4890a7eb84af33803069', 'metrics': [{'key': 'learning_rate', 'value': 0.001, 'timestamp': '1642611469956', 'step': '1', 'epoch': '1', 'tags': [{'key': 'sys_metric', 'value': 'no'}]}, {'key': 'momentum', 'value': 0.9, 'timestamp': '1642611469956', 'step': '1', 'epoch': '1', 'tags': [{'key': 'sys_metric', 'value': 'no'}]}], 'tags': [{'key': 'sys_metric', 'value': 'no'}]}}\n"
     ]
    },
    {
     "name": "stderr",
     "output_type": "stream",
     "text": [
      "2022-01-19 16:57:51,377 - mmcv - INFO - Epoch [2][50/391]\tlr: 1.000e-03, eta: 0:32:12, time: 0.157, data_time: 0.012, memory: 14, \n"
     ]
    },
    {
     "name": "stdout",
     "output_type": "stream",
     "text": [
      "endpoint:  /api/2.0/mlflow/runs/log-batch {'method': 'POST', 'json': {'run_id': '54d993fa893a4890a7eb84af33803069', 'metrics': [{'key': 'learning_rate', 'value': 0.001, 'timestamp': '1642611471490', 'step': '1', 'epoch': '1', 'tags': [{'key': 'sys_metric', 'value': 'no'}]}, {'key': 'momentum', 'value': 0.9, 'timestamp': '1642611471490', 'step': '1', 'epoch': '1', 'tags': [{'key': 'sys_metric', 'value': 'no'}]}], 'tags': [{'key': 'sys_metric', 'value': 'no'}]}}\n"
     ]
    },
    {
     "name": "stderr",
     "output_type": "stream",
     "text": [
      "2022-01-19 16:57:52,983 - mmcv - INFO - Epoch [2][60/391]\tlr: 1.000e-03, eta: 0:31:51, time: 0.154, data_time: 0.007, memory: 14, \n"
     ]
    },
    {
     "name": "stdout",
     "output_type": "stream",
     "text": [
      "endpoint:  /api/2.0/mlflow/runs/log-batch {'method': 'POST', 'json': {'run_id': '54d993fa893a4890a7eb84af33803069', 'metrics': [{'key': 'learning_rate', 'value': 0.001, 'timestamp': '1642611473097', 'step': '1', 'epoch': '1', 'tags': [{'key': 'sys_metric', 'value': 'no'}]}, {'key': 'momentum', 'value': 0.9, 'timestamp': '1642611473097', 'step': '1', 'epoch': '1', 'tags': [{'key': 'sys_metric', 'value': 'no'}]}], 'tags': [{'key': 'sys_metric', 'value': 'no'}]}}\n"
     ]
    },
    {
     "name": "stderr",
     "output_type": "stream",
     "text": [
      "2022-01-19 16:57:54,486 - mmcv - INFO - Epoch [2][70/391]\tlr: 1.000e-03, eta: 0:31:31, time: 0.161, data_time: 0.007, memory: 14, \n"
     ]
    },
    {
     "name": "stdout",
     "output_type": "stream",
     "text": [
      "endpoint:  /api/2.0/mlflow/runs/log-batch {'method': 'POST', 'json': {'run_id': '54d993fa893a4890a7eb84af33803069', 'metrics': [{'key': 'learning_rate', 'value': 0.001, 'timestamp': '1642611474601', 'step': '1', 'epoch': '1', 'tags': [{'key': 'sys_metric', 'value': 'no'}]}, {'key': 'momentum', 'value': 0.9, 'timestamp': '1642611474601', 'step': '1', 'epoch': '1', 'tags': [{'key': 'sys_metric', 'value': 'no'}]}], 'tags': [{'key': 'sys_metric', 'value': 'no'}]}}\n"
     ]
    },
    {
     "name": "stderr",
     "output_type": "stream",
     "text": [
      "2022-01-19 16:57:56,144 - mmcv - INFO - Epoch [2][80/391]\tlr: 1.000e-03, eta: 0:31:09, time: 0.150, data_time: 0.007, memory: 14, \n"
     ]
    },
    {
     "name": "stdout",
     "output_type": "stream",
     "text": [
      "endpoint:  /api/2.0/mlflow/runs/log-batch {'method': 'POST', 'json': {'run_id': '54d993fa893a4890a7eb84af33803069', 'metrics': [{'key': 'learning_rate', 'value': 0.001, 'timestamp': '1642611476291', 'step': '1', 'epoch': '1', 'tags': [{'key': 'sys_metric', 'value': 'no'}]}, {'key': 'momentum', 'value': 0.9, 'timestamp': '1642611476291', 'step': '1', 'epoch': '1', 'tags': [{'key': 'sys_metric', 'value': 'no'}]}], 'tags': [{'key': 'sys_metric', 'value': 'no'}]}}\n"
     ]
    },
    {
     "name": "stderr",
     "output_type": "stream",
     "text": [
      "2022-01-19 16:57:57,936 - mmcv - INFO - Epoch [2][90/391]\tlr: 1.000e-03, eta: 0:30:51, time: 0.169, data_time: 0.011, memory: 14, \n"
     ]
    },
    {
     "name": "stdout",
     "output_type": "stream",
     "text": [
      "endpoint:  /api/2.0/mlflow/runs/log-batch {'method': 'POST', 'json': {'run_id': '54d993fa893a4890a7eb84af33803069', 'metrics': [{'key': 'learning_rate', 'value': 0.001, 'timestamp': '1642611478051', 'step': '1', 'epoch': '1', 'tags': [{'key': 'sys_metric', 'value': 'no'}]}, {'key': 'momentum', 'value': 0.9, 'timestamp': '1642611478051', 'step': '1', 'epoch': '1', 'tags': [{'key': 'sys_metric', 'value': 'no'}]}], 'tags': [{'key': 'sys_metric', 'value': 'no'}]}}\n"
     ]
    },
    {
     "name": "stderr",
     "output_type": "stream",
     "text": [
      "2022-01-19 16:57:59,542 - mmcv - INFO - Epoch [2][100/391]\tlr: 1.000e-03, eta: 0:30:37, time: 0.184, data_time: 0.030, memory: 14, \n"
     ]
    },
    {
     "name": "stdout",
     "output_type": "stream",
     "text": [
      "endpoint:  /api/2.0/mlflow/runs/log-batch {'method': 'POST', 'json': {'run_id': '54d993fa893a4890a7eb84af33803069', 'metrics': [{'key': 'learning_rate', 'value': 0.001, 'timestamp': '1642611479659', 'step': '1', 'epoch': '1', 'tags': [{'key': 'sys_metric', 'value': 'no'}]}, {'key': 'momentum', 'value': 0.9, 'timestamp': '1642611479659', 'step': '1', 'epoch': '1', 'tags': [{'key': 'sys_metric', 'value': 'no'}]}], 'tags': [{'key': 'sys_metric', 'value': 'no'}]}}\n"
     ]
    },
    {
     "name": "stderr",
     "output_type": "stream",
     "text": [
      "2022-01-19 16:58:01,103 - mmcv - INFO - Epoch [2][110/391]\tlr: 1.000e-03, eta: 0:30:18, time: 0.161, data_time: 0.007, memory: 14, \n"
     ]
    },
    {
     "name": "stdout",
     "output_type": "stream",
     "text": [
      "endpoint:  /api/2.0/mlflow/runs/log-batch {'method': 'POST', 'json': {'run_id': '54d993fa893a4890a7eb84af33803069', 'metrics': [{'key': 'learning_rate', 'value': 0.001, 'timestamp': '1642611481218', 'step': '1', 'epoch': '1', 'tags': [{'key': 'sys_metric', 'value': 'no'}]}, {'key': 'momentum', 'value': 0.9, 'timestamp': '1642611481218', 'step': '1', 'epoch': '1', 'tags': [{'key': 'sys_metric', 'value': 'no'}]}], 'tags': [{'key': 'sys_metric', 'value': 'no'}]}}\n"
     ]
    },
    {
     "name": "stderr",
     "output_type": "stream",
     "text": [
      "2022-01-19 16:58:02,661 - mmcv - INFO - Epoch [2][120/391]\tlr: 1.000e-03, eta: 0:29:57, time: 0.156, data_time: 0.007, memory: 14, \n"
     ]
    },
    {
     "name": "stdout",
     "output_type": "stream",
     "text": [
      "endpoint:  /api/2.0/mlflow/runs/log-batch {'method': 'POST', 'json': {'run_id': '54d993fa893a4890a7eb84af33803069', 'metrics': [{'key': 'learning_rate', 'value': 0.001, 'timestamp': '1642611482792', 'step': '1', 'epoch': '1', 'tags': [{'key': 'sys_metric', 'value': 'no'}]}, {'key': 'momentum', 'value': 0.9, 'timestamp': '1642611482792', 'step': '1', 'epoch': '1', 'tags': [{'key': 'sys_metric', 'value': 'no'}]}], 'tags': [{'key': 'sys_metric', 'value': 'no'}]}}\n"
     ]
    },
    {
     "name": "stderr",
     "output_type": "stream",
     "text": [
      "2022-01-19 16:58:04,505 - mmcv - INFO - Epoch [2][130/391]\tlr: 1.000e-03, eta: 0:29:37, time: 0.157, data_time: 0.008, memory: 14, \n"
     ]
    },
    {
     "name": "stdout",
     "output_type": "stream",
     "text": [
      "endpoint:  /api/2.0/mlflow/runs/log-batch {'method': 'POST', 'json': {'run_id': '54d993fa893a4890a7eb84af33803069', 'metrics': [{'key': 'learning_rate', 'value': 0.001, 'timestamp': '1642611484638', 'step': '1', 'epoch': '1', 'tags': [{'key': 'sys_metric', 'value': 'no'}]}, {'key': 'momentum', 'value': 0.9, 'timestamp': '1642611484638', 'step': '1', 'epoch': '1', 'tags': [{'key': 'sys_metric', 'value': 'no'}]}], 'tags': [{'key': 'sys_metric', 'value': 'no'}]}}\n"
     ]
    },
    {
     "name": "stderr",
     "output_type": "stream",
     "text": [
      "2022-01-19 16:58:06,047 - mmcv - INFO - Epoch [2][140/391]\tlr: 1.000e-03, eta: 0:29:23, time: 0.184, data_time: 0.009, memory: 14, \n"
     ]
    },
    {
     "name": "stdout",
     "output_type": "stream",
     "text": [
      "endpoint:  /api/2.0/mlflow/runs/log-batch {'method': 'POST', 'json': {'run_id': '54d993fa893a4890a7eb84af33803069', 'metrics': [{'key': 'learning_rate', 'value': 0.001, 'timestamp': '1642611486166', 'step': '1', 'epoch': '1', 'tags': [{'key': 'sys_metric', 'value': 'no'}]}, {'key': 'momentum', 'value': 0.9, 'timestamp': '1642611486166', 'step': '1', 'epoch': '1', 'tags': [{'key': 'sys_metric', 'value': 'no'}]}], 'tags': [{'key': 'sys_metric', 'value': 'no'}]}}\n"
     ]
    },
    {
     "name": "stderr",
     "output_type": "stream",
     "text": [
      "2022-01-19 16:58:07,687 - mmcv - INFO - Epoch [2][150/391]\tlr: 1.000e-03, eta: 0:29:03, time: 0.154, data_time: 0.007, memory: 14, \n"
     ]
    },
    {
     "name": "stdout",
     "output_type": "stream",
     "text": [
      "endpoint:  /api/2.0/mlflow/runs/log-batch {'method': 'POST', 'json': {'run_id': '54d993fa893a4890a7eb84af33803069', 'metrics': [{'key': 'learning_rate', 'value': 0.001, 'timestamp': '1642611487837', 'step': '1', 'epoch': '1', 'tags': [{'key': 'sys_metric', 'value': 'no'}]}, {'key': 'momentum', 'value': 0.9, 'timestamp': '1642611487837', 'step': '1', 'epoch': '1', 'tags': [{'key': 'sys_metric', 'value': 'no'}]}], 'tags': [{'key': 'sys_metric', 'value': 'no'}]}}\n"
     ]
    },
    {
     "name": "stderr",
     "output_type": "stream",
     "text": [
      "2022-01-19 16:58:09,225 - mmcv - INFO - Epoch [2][160/391]\tlr: 1.000e-03, eta: 0:28:45, time: 0.167, data_time: 0.011, memory: 14, \n"
     ]
    },
    {
     "name": "stdout",
     "output_type": "stream",
     "text": [
      "endpoint:  /api/2.0/mlflow/runs/log-batch {'method': 'POST', 'json': {'run_id': '54d993fa893a4890a7eb84af33803069', 'metrics': [{'key': 'learning_rate', 'value': 0.001, 'timestamp': '1642611489341', 'step': '1', 'epoch': '1', 'tags': [{'key': 'sys_metric', 'value': 'no'}]}, {'key': 'momentum', 'value': 0.9, 'timestamp': '1642611489341', 'step': '1', 'epoch': '1', 'tags': [{'key': 'sys_metric', 'value': 'no'}]}], 'tags': [{'key': 'sys_metric', 'value': 'no'}]}}\n"
     ]
    },
    {
     "name": "stderr",
     "output_type": "stream",
     "text": [
      "2022-01-19 16:58:10,751 - mmcv - INFO - Epoch [2][170/391]\tlr: 1.000e-03, eta: 0:28:25, time: 0.150, data_time: 0.007, memory: 14, \n"
     ]
    },
    {
     "name": "stdout",
     "output_type": "stream",
     "text": [
      "endpoint:  /api/2.0/mlflow/runs/log-batch {'method': 'POST', 'json': {'run_id': '54d993fa893a4890a7eb84af33803069', 'metrics': [{'key': 'learning_rate', 'value': 0.001, 'timestamp': '1642611490892', 'step': '1', 'epoch': '1', 'tags': [{'key': 'sys_metric', 'value': 'no'}]}, {'key': 'momentum', 'value': 0.9, 'timestamp': '1642611490892', 'step': '1', 'epoch': '1', 'tags': [{'key': 'sys_metric', 'value': 'no'}]}], 'tags': [{'key': 'sys_metric', 'value': 'no'}]}}\n"
     ]
    },
    {
     "name": "stderr",
     "output_type": "stream",
     "text": [
      "2022-01-19 16:58:12,424 - mmcv - INFO - Epoch [2][180/391]\tlr: 1.000e-03, eta: 0:28:05, time: 0.156, data_time: 0.011, memory: 14, \n"
     ]
    },
    {
     "name": "stdout",
     "output_type": "stream",
     "text": [
      "endpoint:  /api/2.0/mlflow/runs/log-batch {'method': 'POST', 'json': {'run_id': '54d993fa893a4890a7eb84af33803069', 'metrics': [{'key': 'learning_rate', 'value': 0.001, 'timestamp': '1642611492538', 'step': '1', 'epoch': '1', 'tags': [{'key': 'sys_metric', 'value': 'no'}]}, {'key': 'momentum', 'value': 0.9, 'timestamp': '1642611492538', 'step': '1', 'epoch': '1', 'tags': [{'key': 'sys_metric', 'value': 'no'}]}], 'tags': [{'key': 'sys_metric', 'value': 'no'}]}}\n"
     ]
    },
    {
     "name": "stderr",
     "output_type": "stream",
     "text": [
      "2022-01-19 16:58:13,930 - mmcv - INFO - Epoch [2][190/391]\tlr: 1.000e-03, eta: 0:27:47, time: 0.164, data_time: 0.007, memory: 14, \n"
     ]
    },
    {
     "name": "stdout",
     "output_type": "stream",
     "text": [
      "endpoint:  /api/2.0/mlflow/runs/log-batch {'method': 'POST', 'json': {'run_id': '54d993fa893a4890a7eb84af33803069', 'metrics': [{'key': 'learning_rate', 'value': 0.001, 'timestamp': '1642611494046', 'step': '1', 'epoch': '1', 'tags': [{'key': 'sys_metric', 'value': 'no'}]}, {'key': 'momentum', 'value': 0.9, 'timestamp': '1642611494046', 'step': '1', 'epoch': '1', 'tags': [{'key': 'sys_metric', 'value': 'no'}]}], 'tags': [{'key': 'sys_metric', 'value': 'no'}]}}\n"
     ]
    },
    {
     "name": "stderr",
     "output_type": "stream",
     "text": [
      "2022-01-19 16:58:15,569 - mmcv - INFO - Epoch [2][200/391]\tlr: 1.000e-03, eta: 0:27:29, time: 0.160, data_time: 0.008, memory: 14, \n"
     ]
    },
    {
     "name": "stdout",
     "output_type": "stream",
     "text": [
      "endpoint:  /api/2.0/mlflow/runs/log-batch {'method': 'POST', 'json': {'run_id': '54d993fa893a4890a7eb84af33803069', 'metrics': [{'key': 'learning_rate', 'value': 0.001, 'timestamp': '1642611495705', 'step': '1', 'epoch': '1', 'tags': [{'key': 'sys_metric', 'value': 'no'}]}, {'key': 'momentum', 'value': 0.9, 'timestamp': '1642611495705', 'step': '1', 'epoch': '1', 'tags': [{'key': 'sys_metric', 'value': 'no'}]}], 'tags': [{'key': 'sys_metric', 'value': 'no'}]}}\n"
     ]
    },
    {
     "name": "stderr",
     "output_type": "stream",
     "text": [
      "2022-01-19 16:58:17,192 - mmcv - INFO - Epoch [2][210/391]\tlr: 1.000e-03, eta: 0:27:11, time: 0.166, data_time: 0.010, memory: 14, \n"
     ]
    },
    {
     "name": "stdout",
     "output_type": "stream",
     "text": [
      "endpoint:  /api/2.0/mlflow/runs/log-batch {'method': 'POST', 'json': {'run_id': '54d993fa893a4890a7eb84af33803069', 'metrics': [{'key': 'learning_rate', 'value': 0.001, 'timestamp': '1642611497340', 'step': '1', 'epoch': '1', 'tags': [{'key': 'sys_metric', 'value': 'no'}]}, {'key': 'momentum', 'value': 0.9, 'timestamp': '1642611497340', 'step': '1', 'epoch': '1', 'tags': [{'key': 'sys_metric', 'value': 'no'}]}], 'tags': [{'key': 'sys_metric', 'value': 'no'}]}}\n"
     ]
    },
    {
     "name": "stderr",
     "output_type": "stream",
     "text": [
      "2022-01-19 16:58:18,763 - mmcv - INFO - Epoch [2][220/391]\tlr: 1.000e-03, eta: 0:26:53, time: 0.164, data_time: 0.012, memory: 14, \n"
     ]
    },
    {
     "name": "stdout",
     "output_type": "stream",
     "text": [
      "endpoint:  /api/2.0/mlflow/runs/log-batch {'method': 'POST', 'json': {'run_id': '54d993fa893a4890a7eb84af33803069', 'metrics': [{'key': 'learning_rate', 'value': 0.001, 'timestamp': '1642611498877', 'step': '1', 'epoch': '1', 'tags': [{'key': 'sys_metric', 'value': 'no'}]}, {'key': 'momentum', 'value': 0.9, 'timestamp': '1642611498877', 'step': '1', 'epoch': '1', 'tags': [{'key': 'sys_metric', 'value': 'no'}]}], 'tags': [{'key': 'sys_metric', 'value': 'no'}]}}\n"
     ]
    },
    {
     "name": "stderr",
     "output_type": "stream",
     "text": [
      "2022-01-19 16:58:20,310 - mmcv - INFO - Epoch [2][230/391]\tlr: 1.000e-03, eta: 0:26:34, time: 0.154, data_time: 0.007, memory: 14, \n"
     ]
    },
    {
     "name": "stdout",
     "output_type": "stream",
     "text": [
      "endpoint:  /api/2.0/mlflow/runs/log-batch {'method': 'POST', 'json': {'run_id': '54d993fa893a4890a7eb84af33803069', 'metrics': [{'key': 'learning_rate', 'value': 0.001, 'timestamp': '1642611500426', 'step': '1', 'epoch': '1', 'tags': [{'key': 'sys_metric', 'value': 'no'}]}, {'key': 'momentum', 'value': 0.9, 'timestamp': '1642611500426', 'step': '1', 'epoch': '1', 'tags': [{'key': 'sys_metric', 'value': 'no'}]}], 'tags': [{'key': 'sys_metric', 'value': 'no'}]}}\n"
     ]
    },
    {
     "name": "stderr",
     "output_type": "stream",
     "text": [
      "2022-01-19 16:58:22,001 - mmcv - INFO - Epoch [2][240/391]\tlr: 1.000e-03, eta: 0:26:15, time: 0.155, data_time: 0.007, memory: 14, \n"
     ]
    },
    {
     "name": "stdout",
     "output_type": "stream",
     "text": [
      "endpoint:  /api/2.0/mlflow/runs/log-batch {'method': 'POST', 'json': {'run_id': '54d993fa893a4890a7eb84af33803069', 'metrics': [{'key': 'learning_rate', 'value': 0.001, 'timestamp': '1642611502115', 'step': '1', 'epoch': '1', 'tags': [{'key': 'sys_metric', 'value': 'no'}]}, {'key': 'momentum', 'value': 0.9, 'timestamp': '1642611502115', 'step': '1', 'epoch': '1', 'tags': [{'key': 'sys_metric', 'value': 'no'}]}], 'tags': [{'key': 'sys_metric', 'value': 'no'}]}}\n"
     ]
    },
    {
     "name": "stderr",
     "output_type": "stream",
     "text": [
      "2022-01-19 16:58:23,613 - mmcv - INFO - Epoch [2][250/391]\tlr: 1.000e-03, eta: 0:25:58, time: 0.169, data_time: 0.007, memory: 14, \n"
     ]
    },
    {
     "name": "stdout",
     "output_type": "stream",
     "text": [
      "endpoint:  /api/2.0/mlflow/runs/log-batch {'method': 'POST', 'json': {'run_id': '54d993fa893a4890a7eb84af33803069', 'metrics': [{'key': 'learning_rate', 'value': 0.001, 'timestamp': '1642611503727', 'step': '1', 'epoch': '1', 'tags': [{'key': 'sys_metric', 'value': 'no'}]}, {'key': 'momentum', 'value': 0.9, 'timestamp': '1642611503727', 'step': '1', 'epoch': '1', 'tags': [{'key': 'sys_metric', 'value': 'no'}]}], 'tags': [{'key': 'sys_metric', 'value': 'no'}]}}\n"
     ]
    },
    {
     "name": "stderr",
     "output_type": "stream",
     "text": [
      "2022-01-19 16:58:25,107 - mmcv - INFO - Epoch [2][260/391]\tlr: 1.000e-03, eta: 0:25:40, time: 0.162, data_time: 0.006, memory: 14, \n"
     ]
    },
    {
     "name": "stdout",
     "output_type": "stream",
     "text": [
      "endpoint:  /api/2.0/mlflow/runs/log-batch {'method': 'POST', 'json': {'run_id': '54d993fa893a4890a7eb84af33803069', 'metrics': [{'key': 'learning_rate', 'value': 0.001, 'timestamp': '1642611505260', 'step': '1', 'epoch': '1', 'tags': [{'key': 'sys_metric', 'value': 'no'}]}, {'key': 'momentum', 'value': 0.9, 'timestamp': '1642611505260', 'step': '1', 'epoch': '1', 'tags': [{'key': 'sys_metric', 'value': 'no'}]}], 'tags': [{'key': 'sys_metric', 'value': 'no'}]}}\n"
     ]
    },
    {
     "name": "stderr",
     "output_type": "stream",
     "text": [
      "2022-01-19 16:58:26,868 - mmcv - INFO - Epoch [2][270/391]\tlr: 1.000e-03, eta: 0:25:21, time: 0.153, data_time: 0.010, memory: 14, \n"
     ]
    },
    {
     "name": "stdout",
     "output_type": "stream",
     "text": [
      "endpoint:  /api/2.0/mlflow/runs/log-batch {'method': 'POST', 'json': {'run_id': '54d993fa893a4890a7eb84af33803069', 'metrics': [{'key': 'learning_rate', 'value': 0.001, 'timestamp': '1642611506999', 'step': '1', 'epoch': '1', 'tags': [{'key': 'sys_metric', 'value': 'no'}]}, {'key': 'momentum', 'value': 0.9, 'timestamp': '1642611506999', 'step': '1', 'epoch': '1', 'tags': [{'key': 'sys_metric', 'value': 'no'}]}], 'tags': [{'key': 'sys_metric', 'value': 'no'}]}}\n"
     ]
    },
    {
     "name": "stderr",
     "output_type": "stream",
     "text": [
      "2022-01-19 16:58:28,417 - mmcv - INFO - Epoch [2][280/391]\tlr: 1.000e-03, eta: 0:25:05, time: 0.174, data_time: 0.009, memory: 14, \n"
     ]
    },
    {
     "name": "stdout",
     "output_type": "stream",
     "text": [
      "endpoint:  /api/2.0/mlflow/runs/log-batch {'method': 'POST', 'json': {'run_id': '54d993fa893a4890a7eb84af33803069', 'metrics': [{'key': 'learning_rate', 'value': 0.001, 'timestamp': '1642611508533', 'step': '1', 'epoch': '1', 'tags': [{'key': 'sys_metric', 'value': 'no'}]}, {'key': 'momentum', 'value': 0.9, 'timestamp': '1642611508533', 'step': '1', 'epoch': '1', 'tags': [{'key': 'sys_metric', 'value': 'no'}]}], 'tags': [{'key': 'sys_metric', 'value': 'no'}]}}\n"
     ]
    },
    {
     "name": "stderr",
     "output_type": "stream",
     "text": [
      "2022-01-19 16:58:30,019 - mmcv - INFO - Epoch [2][290/391]\tlr: 1.000e-03, eta: 0:24:46, time: 0.153, data_time: 0.007, memory: 14, \n"
     ]
    },
    {
     "name": "stdout",
     "output_type": "stream",
     "text": [
      "endpoint:  /api/2.0/mlflow/runs/log-batch {'method': 'POST', 'json': {'run_id': '54d993fa893a4890a7eb84af33803069', 'metrics': [{'key': 'learning_rate', 'value': 0.001, 'timestamp': '1642611510135', 'step': '1', 'epoch': '1', 'tags': [{'key': 'sys_metric', 'value': 'no'}]}, {'key': 'momentum', 'value': 0.9, 'timestamp': '1642611510135', 'step': '1', 'epoch': '1', 'tags': [{'key': 'sys_metric', 'value': 'no'}]}], 'tags': [{'key': 'sys_metric', 'value': 'no'}]}}\n"
     ]
    },
    {
     "name": "stderr",
     "output_type": "stream",
     "text": [
      "2022-01-19 16:58:31,591 - mmcv - INFO - Epoch [2][300/391]\tlr: 1.000e-03, eta: 0:24:28, time: 0.160, data_time: 0.008, memory: 14, \n"
     ]
    },
    {
     "name": "stdout",
     "output_type": "stream",
     "text": [
      "endpoint:  /api/2.0/mlflow/runs/log-batch {'method': 'POST', 'json': {'run_id': '54d993fa893a4890a7eb84af33803069', 'metrics': [{'key': 'learning_rate', 'value': 0.001, 'timestamp': '1642611511708', 'step': '1', 'epoch': '1', 'tags': [{'key': 'sys_metric', 'value': 'no'}]}, {'key': 'momentum', 'value': 0.9, 'timestamp': '1642611511708', 'step': '1', 'epoch': '1', 'tags': [{'key': 'sys_metric', 'value': 'no'}]}], 'tags': [{'key': 'sys_metric', 'value': 'no'}]}}\n"
     ]
    },
    {
     "name": "stderr",
     "output_type": "stream",
     "text": [
      "2022-01-19 16:58:33,316 - mmcv - INFO - Epoch [2][310/391]\tlr: 1.000e-03, eta: 0:24:10, time: 0.157, data_time: 0.007, memory: 14, \n"
     ]
    },
    {
     "name": "stdout",
     "output_type": "stream",
     "text": [
      "endpoint:  /api/2.0/mlflow/runs/log-batch {'method': 'POST', 'json': {'run_id': '54d993fa893a4890a7eb84af33803069', 'metrics': [{'key': 'learning_rate', 'value': 0.001, 'timestamp': '1642611513454', 'step': '1', 'epoch': '1', 'tags': [{'key': 'sys_metric', 'value': 'no'}]}, {'key': 'momentum', 'value': 0.9, 'timestamp': '1642611513454', 'step': '1', 'epoch': '1', 'tags': [{'key': 'sys_metric', 'value': 'no'}]}], 'tags': [{'key': 'sys_metric', 'value': 'no'}]}}\n"
     ]
    },
    {
     "name": "stderr",
     "output_type": "stream",
     "text": [
      "2022-01-19 16:58:34,847 - mmcv - INFO - Epoch [2][320/391]\tlr: 1.000e-03, eta: 0:23:54, time: 0.175, data_time: 0.010, memory: 14, \n"
     ]
    },
    {
     "name": "stdout",
     "output_type": "stream",
     "text": [
      "endpoint:  /api/2.0/mlflow/runs/log-batch {'method': 'POST', 'json': {'run_id': '54d993fa893a4890a7eb84af33803069', 'metrics': [{'key': 'learning_rate', 'value': 0.001, 'timestamp': '1642611514971', 'step': '1', 'epoch': '1', 'tags': [{'key': 'sys_metric', 'value': 'no'}]}, {'key': 'momentum', 'value': 0.9, 'timestamp': '1642611514971', 'step': '1', 'epoch': '1', 'tags': [{'key': 'sys_metric', 'value': 'no'}]}], 'tags': [{'key': 'sys_metric', 'value': 'no'}]}}\n"
     ]
    },
    {
     "name": "stderr",
     "output_type": "stream",
     "text": [
      "2022-01-19 16:58:36,624 - mmcv - INFO - Epoch [2][330/391]\tlr: 1.000e-03, eta: 0:23:35, time: 0.151, data_time: 0.007, memory: 14, \n"
     ]
    },
    {
     "name": "stdout",
     "output_type": "stream",
     "text": [
      "endpoint:  /api/2.0/mlflow/runs/log-batch {'method': 'POST', 'json': {'run_id': '54d993fa893a4890a7eb84af33803069', 'metrics': [{'key': 'learning_rate', 'value': 0.001, 'timestamp': '1642611516765', 'step': '1', 'epoch': '1', 'tags': [{'key': 'sys_metric', 'value': 'no'}]}, {'key': 'momentum', 'value': 0.9, 'timestamp': '1642611516765', 'step': '1', 'epoch': '1', 'tags': [{'key': 'sys_metric', 'value': 'no'}]}], 'tags': [{'key': 'sys_metric', 'value': 'no'}]}}\n"
     ]
    },
    {
     "name": "stderr",
     "output_type": "stream",
     "text": [
      "2022-01-19 16:58:38,230 - mmcv - INFO - Epoch [2][340/391]\tlr: 1.000e-03, eta: 0:23:20, time: 0.179, data_time: 0.010, memory: 14, \n"
     ]
    },
    {
     "name": "stdout",
     "output_type": "stream",
     "text": [
      "endpoint:  /api/2.0/mlflow/runs/log-batch {'method': 'POST', 'json': {'run_id': '54d993fa893a4890a7eb84af33803069', 'metrics': [{'key': 'learning_rate', 'value': 0.001, 'timestamp': '1642611518349', 'step': '1', 'epoch': '1', 'tags': [{'key': 'sys_metric', 'value': 'no'}]}, {'key': 'momentum', 'value': 0.9, 'timestamp': '1642611518349', 'step': '1', 'epoch': '1', 'tags': [{'key': 'sys_metric', 'value': 'no'}]}], 'tags': [{'key': 'sys_metric', 'value': 'no'}]}}\n"
     ]
    },
    {
     "name": "stderr",
     "output_type": "stream",
     "text": [
      "2022-01-19 16:58:39,916 - mmcv - INFO - Epoch [2][350/391]\tlr: 1.000e-03, eta: 0:23:02, time: 0.159, data_time: 0.007, memory: 14, \n"
     ]
    },
    {
     "name": "stdout",
     "output_type": "stream",
     "text": [
      "endpoint:  /api/2.0/mlflow/runs/log-batch {'method': 'POST', 'json': {'run_id': '54d993fa893a4890a7eb84af33803069', 'metrics': [{'key': 'learning_rate', 'value': 0.001, 'timestamp': '1642611520039', 'step': '1', 'epoch': '1', 'tags': [{'key': 'sys_metric', 'value': 'no'}]}, {'key': 'momentum', 'value': 0.9, 'timestamp': '1642611520039', 'step': '1', 'epoch': '1', 'tags': [{'key': 'sys_metric', 'value': 'no'}]}], 'tags': [{'key': 'sys_metric', 'value': 'no'}]}}\n"
     ]
    },
    {
     "name": "stderr",
     "output_type": "stream",
     "text": [
      "2022-01-19 16:58:41,517 - mmcv - INFO - Epoch [2][360/391]\tlr: 1.000e-03, eta: 0:22:45, time: 0.169, data_time: 0.008, memory: 14, \n"
     ]
    },
    {
     "name": "stdout",
     "output_type": "stream",
     "text": [
      "endpoint:  /api/2.0/mlflow/runs/log-batch {'method': 'POST', 'json': {'run_id': '54d993fa893a4890a7eb84af33803069', 'metrics': [{'key': 'learning_rate', 'value': 0.001, 'timestamp': '1642611521665', 'step': '1', 'epoch': '1', 'tags': [{'key': 'sys_metric', 'value': 'no'}]}, {'key': 'momentum', 'value': 0.9, 'timestamp': '1642611521665', 'step': '1', 'epoch': '1', 'tags': [{'key': 'sys_metric', 'value': 'no'}]}], 'tags': [{'key': 'sys_metric', 'value': 'no'}]}}\n"
     ]
    },
    {
     "name": "stderr",
     "output_type": "stream",
     "text": [
      "2022-01-19 16:58:43,168 - mmcv - INFO - Epoch [2][370/391]\tlr: 1.000e-03, eta: 0:22:28, time: 0.163, data_time: 0.012, memory: 14, \n"
     ]
    },
    {
     "name": "stdout",
     "output_type": "stream",
     "text": [
      "endpoint:  /api/2.0/mlflow/runs/log-batch {'method': 'POST', 'json': {'run_id': '54d993fa893a4890a7eb84af33803069', 'metrics': [{'key': 'learning_rate', 'value': 0.001, 'timestamp': '1642611523298', 'step': '1', 'epoch': '1', 'tags': [{'key': 'sys_metric', 'value': 'no'}]}, {'key': 'momentum', 'value': 0.9, 'timestamp': '1642611523298', 'step': '1', 'epoch': '1', 'tags': [{'key': 'sys_metric', 'value': 'no'}]}], 'tags': [{'key': 'sys_metric', 'value': 'no'}]}}\n"
     ]
    },
    {
     "name": "stderr",
     "output_type": "stream",
     "text": [
      "2022-01-19 16:58:44,694 - mmcv - INFO - Epoch [2][380/391]\tlr: 1.000e-03, eta: 0:22:11, time: 0.162, data_time: 0.009, memory: 14, \n"
     ]
    },
    {
     "name": "stdout",
     "output_type": "stream",
     "text": [
      "endpoint:  /api/2.0/mlflow/runs/log-batch {'method': 'POST', 'json': {'run_id': '54d993fa893a4890a7eb84af33803069', 'metrics': [{'key': 'learning_rate', 'value': 0.001, 'timestamp': '1642611524842', 'step': '1', 'epoch': '1', 'tags': [{'key': 'sys_metric', 'value': 'no'}]}, {'key': 'momentum', 'value': 0.9, 'timestamp': '1642611524842', 'step': '1', 'epoch': '1', 'tags': [{'key': 'sys_metric', 'value': 'no'}]}], 'tags': [{'key': 'sys_metric', 'value': 'no'}]}}\n"
     ]
    },
    {
     "name": "stderr",
     "output_type": "stream",
     "text": [
      "2022-01-19 16:58:46,479 - mmcv - INFO - Epoch [2][390/391]\tlr: 1.000e-03, eta: 0:21:52, time: 0.156, data_time: 0.011, memory: 14, \n",
      "2022-01-19 16:58:46,520 - mmcv - INFO - Saving checkpoint at 2 epochs\n"
     ]
    },
    {
     "name": "stdout",
     "output_type": "stream",
     "text": [
      "endpoint:  /api/2.0/mlflow/runs/log-batch {'method': 'POST', 'json': {'run_id': '54d993fa893a4890a7eb84af33803069', 'metrics': [{'key': 'learning_rate', 'value': 0.0001, 'timestamp': '1642611528811', 'step': '2', 'epoch': '2', 'tags': [{'key': 'sys_metric', 'value': 'no'}]}, {'key': 'momentum', 'value': 0.9, 'timestamp': '1642611528811', 'step': '2', 'epoch': '2', 'tags': [{'key': 'sys_metric', 'value': 'no'}]}], 'tags': [{'key': 'sys_metric', 'value': 'no'}]}}\n"
     ]
    },
    {
     "name": "stderr",
     "output_type": "stream",
     "text": [
      "2022-01-19 16:58:50,363 - mmcv - INFO - Epoch [3][10/391]\tlr: 1.000e-04, eta: 0:21:41, time: 0.253, data_time: 0.224, memory: 14, \n"
     ]
    },
    {
     "name": "stdout",
     "output_type": "stream",
     "text": [
      "endpoint:  /api/2.0/mlflow/runs/log-batch {'method': 'POST', 'json': {'run_id': '54d993fa893a4890a7eb84af33803069', 'metrics': [{'key': 'learning_rate', 'value': 0.0001, 'timestamp': '1642611530477', 'step': '2', 'epoch': '2', 'tags': [{'key': 'sys_metric', 'value': 'no'}]}, {'key': 'momentum', 'value': 0.9, 'timestamp': '1642611530477', 'step': '2', 'epoch': '2', 'tags': [{'key': 'sys_metric', 'value': 'no'}]}], 'tags': [{'key': 'sys_metric', 'value': 'no'}]}}\n"
     ]
    },
    {
     "name": "stderr",
     "output_type": "stream",
     "text": [
      "2022-01-19 16:58:51,890 - mmcv - INFO - Epoch [3][20/391]\tlr: 1.000e-04, eta: 0:21:24, time: 0.166, data_time: 0.007, memory: 14, \n"
     ]
    },
    {
     "name": "stdout",
     "output_type": "stream",
     "text": [
      "endpoint:  /api/2.0/mlflow/runs/log-batch {'method': 'POST', 'json': {'run_id': '54d993fa893a4890a7eb84af33803069', 'metrics': [{'key': 'learning_rate', 'value': 0.0001, 'timestamp': '1642611532011', 'step': '2', 'epoch': '2', 'tags': [{'key': 'sys_metric', 'value': 'no'}]}, {'key': 'momentum', 'value': 0.9, 'timestamp': '1642611532011', 'step': '2', 'epoch': '2', 'tags': [{'key': 'sys_metric', 'value': 'no'}]}], 'tags': [{'key': 'sys_metric', 'value': 'no'}]}}\n"
     ]
    },
    {
     "name": "stderr",
     "output_type": "stream",
     "text": [
      "2022-01-19 16:58:53,531 - mmcv - INFO - Epoch [3][30/391]\tlr: 1.000e-04, eta: 0:21:05, time: 0.153, data_time: 0.008, memory: 14, \n"
     ]
    },
    {
     "name": "stdout",
     "output_type": "stream",
     "text": [
      "endpoint:  /api/2.0/mlflow/runs/log-batch {'method': 'POST', 'json': {'run_id': '54d993fa893a4890a7eb84af33803069', 'metrics': [{'key': 'learning_rate', 'value': 0.0001, 'timestamp': '1642611533660', 'step': '2', 'epoch': '2', 'tags': [{'key': 'sys_metric', 'value': 'no'}]}, {'key': 'momentum', 'value': 0.9, 'timestamp': '1642611533660', 'step': '2', 'epoch': '2', 'tags': [{'key': 'sys_metric', 'value': 'no'}]}], 'tags': [{'key': 'sys_metric', 'value': 'no'}]}}\n"
     ]
    },
    {
     "name": "stderr",
     "output_type": "stream",
     "text": [
      "2022-01-19 16:58:55,003 - mmcv - INFO - Epoch [3][40/391]\tlr: 1.000e-04, eta: 0:20:48, time: 0.165, data_time: 0.009, memory: 14, \n"
     ]
    },
    {
     "name": "stdout",
     "output_type": "stream",
     "text": [
      "endpoint:  /api/2.0/mlflow/runs/log-batch {'method': 'POST', 'json': {'run_id': '54d993fa893a4890a7eb84af33803069', 'metrics': [{'key': 'learning_rate', 'value': 0.0001, 'timestamp': '1642611535119', 'step': '2', 'epoch': '2', 'tags': [{'key': 'sys_metric', 'value': 'no'}]}, {'key': 'momentum', 'value': 0.9, 'timestamp': '1642611535119', 'step': '2', 'epoch': '2', 'tags': [{'key': 'sys_metric', 'value': 'no'}]}], 'tags': [{'key': 'sys_metric', 'value': 'no'}]}}\n"
     ]
    },
    {
     "name": "stderr",
     "output_type": "stream",
     "text": [
      "2022-01-19 16:58:56,547 - mmcv - INFO - Epoch [3][50/391]\tlr: 1.000e-04, eta: 0:20:30, time: 0.146, data_time: 0.007, memory: 14, \n"
     ]
    },
    {
     "name": "stdout",
     "output_type": "stream",
     "text": [
      "endpoint:  /api/2.0/mlflow/runs/log-batch {'method': 'POST', 'json': {'run_id': '54d993fa893a4890a7eb84af33803069', 'metrics': [{'key': 'learning_rate', 'value': 0.0001, 'timestamp': '1642611536684', 'step': '2', 'epoch': '2', 'tags': [{'key': 'sys_metric', 'value': 'no'}]}, {'key': 'momentum', 'value': 0.9, 'timestamp': '1642611536684', 'step': '2', 'epoch': '2', 'tags': [{'key': 'sys_metric', 'value': 'no'}]}], 'tags': [{'key': 'sys_metric', 'value': 'no'}]}}\n"
     ]
    },
    {
     "name": "stderr",
     "output_type": "stream",
     "text": [
      "2022-01-19 16:58:58,311 - mmcv - INFO - Epoch [3][60/391]\tlr: 1.000e-04, eta: 0:20:12, time: 0.156, data_time: 0.008, memory: 14, \n"
     ]
    },
    {
     "name": "stdout",
     "output_type": "stream",
     "text": [
      "endpoint:  /api/2.0/mlflow/runs/log-batch {'method': 'POST', 'json': {'run_id': '54d993fa893a4890a7eb84af33803069', 'metrics': [{'key': 'learning_rate', 'value': 0.0001, 'timestamp': '1642611538425', 'step': '2', 'epoch': '2', 'tags': [{'key': 'sys_metric', 'value': 'no'}]}, {'key': 'momentum', 'value': 0.9, 'timestamp': '1642611538425', 'step': '2', 'epoch': '2', 'tags': [{'key': 'sys_metric', 'value': 'no'}]}], 'tags': [{'key': 'sys_metric', 'value': 'no'}]}}\n"
     ]
    },
    {
     "name": "stderr",
     "output_type": "stream",
     "text": [
      "2022-01-19 16:58:59,854 - mmcv - INFO - Epoch [3][70/391]\tlr: 1.000e-04, eta: 0:19:55, time: 0.175, data_time: 0.007, memory: 14, \n"
     ]
    },
    {
     "name": "stdout",
     "output_type": "stream",
     "text": [
      "endpoint:  /api/2.0/mlflow/runs/log-batch {'method': 'POST', 'json': {'run_id': '54d993fa893a4890a7eb84af33803069', 'metrics': [{'key': 'learning_rate', 'value': 0.0001, 'timestamp': '1642611539972', 'step': '2', 'epoch': '2', 'tags': [{'key': 'sys_metric', 'value': 'no'}]}, {'key': 'momentum', 'value': 0.9, 'timestamp': '1642611539972', 'step': '2', 'epoch': '2', 'tags': [{'key': 'sys_metric', 'value': 'no'}]}], 'tags': [{'key': 'sys_metric', 'value': 'no'}]}}\n"
     ]
    },
    {
     "name": "stderr",
     "output_type": "stream",
     "text": [
      "2022-01-19 16:59:01,664 - mmcv - INFO - Epoch [3][80/391]\tlr: 1.000e-04, eta: 0:19:38, time: 0.155, data_time: 0.008, memory: 14, \n"
     ]
    },
    {
     "name": "stdout",
     "output_type": "stream",
     "text": [
      "endpoint:  /api/2.0/mlflow/runs/log-batch {'method': 'POST', 'json': {'run_id': '54d993fa893a4890a7eb84af33803069', 'metrics': [{'key': 'learning_rate', 'value': 0.0001, 'timestamp': '1642611541784', 'step': '2', 'epoch': '2', 'tags': [{'key': 'sys_metric', 'value': 'no'}]}, {'key': 'momentum', 'value': 0.9, 'timestamp': '1642611541784', 'step': '2', 'epoch': '2', 'tags': [{'key': 'sys_metric', 'value': 'no'}]}], 'tags': [{'key': 'sys_metric', 'value': 'no'}]}}\n"
     ]
    },
    {
     "name": "stderr",
     "output_type": "stream",
     "text": [
      "2022-01-19 16:59:03,314 - mmcv - INFO - Epoch [3][90/391]\tlr: 1.000e-04, eta: 0:19:22, time: 0.181, data_time: 0.007, memory: 14, \n"
     ]
    },
    {
     "name": "stdout",
     "output_type": "stream",
     "text": [
      "endpoint:  /api/2.0/mlflow/runs/log-batch {'method': 'POST', 'json': {'run_id': '54d993fa893a4890a7eb84af33803069', 'metrics': [{'key': 'learning_rate', 'value': 0.0001, 'timestamp': '1642611543454', 'step': '2', 'epoch': '2', 'tags': [{'key': 'sys_metric', 'value': 'no'}]}, {'key': 'momentum', 'value': 0.9, 'timestamp': '1642611543454', 'step': '2', 'epoch': '2', 'tags': [{'key': 'sys_metric', 'value': 'no'}]}], 'tags': [{'key': 'sys_metric', 'value': 'no'}]}}\n"
     ]
    },
    {
     "name": "stderr",
     "output_type": "stream",
     "text": [
      "2022-01-19 16:59:05,069 - mmcv - INFO - Epoch [3][100/391]\tlr: 1.000e-04, eta: 0:19:06, time: 0.185, data_time: 0.030, memory: 14, \n"
     ]
    },
    {
     "name": "stdout",
     "output_type": "stream",
     "text": [
      "endpoint:  /api/2.0/mlflow/runs/log-batch {'method': 'POST', 'json': {'run_id': '54d993fa893a4890a7eb84af33803069', 'metrics': [{'key': 'learning_rate', 'value': 0.0001, 'timestamp': '1642611545184', 'step': '2', 'epoch': '2', 'tags': [{'key': 'sys_metric', 'value': 'no'}]}, {'key': 'momentum', 'value': 0.9, 'timestamp': '1642611545184', 'step': '2', 'epoch': '2', 'tags': [{'key': 'sys_metric', 'value': 'no'}]}], 'tags': [{'key': 'sys_metric', 'value': 'no'}]}}\n"
     ]
    },
    {
     "name": "stderr",
     "output_type": "stream",
     "text": [
      "2022-01-19 16:59:06,683 - mmcv - INFO - Epoch [3][110/391]\tlr: 1.000e-04, eta: 0:18:50, time: 0.173, data_time: 0.006, memory: 14, \n"
     ]
    },
    {
     "name": "stdout",
     "output_type": "stream",
     "text": [
      "endpoint:  /api/2.0/mlflow/runs/log-batch {'method': 'POST', 'json': {'run_id': '54d993fa893a4890a7eb84af33803069', 'metrics': [{'key': 'learning_rate', 'value': 0.0001, 'timestamp': '1642611546847', 'step': '2', 'epoch': '2', 'tags': [{'key': 'sys_metric', 'value': 'no'}]}, {'key': 'momentum', 'value': 0.9, 'timestamp': '1642611546847', 'step': '2', 'epoch': '2', 'tags': [{'key': 'sys_metric', 'value': 'no'}]}], 'tags': [{'key': 'sys_metric', 'value': 'no'}]}}\n"
     ]
    },
    {
     "name": "stderr",
     "output_type": "stream",
     "text": [
      "2022-01-19 16:59:08,264 - mmcv - INFO - Epoch [3][120/391]\tlr: 1.000e-04, eta: 0:18:33, time: 0.167, data_time: 0.012, memory: 14, \n"
     ]
    },
    {
     "name": "stdout",
     "output_type": "stream",
     "text": [
      "endpoint:  /api/2.0/mlflow/runs/log-batch {'method': 'POST', 'json': {'run_id': '54d993fa893a4890a7eb84af33803069', 'metrics': [{'key': 'learning_rate', 'value': 0.0001, 'timestamp': '1642611548378', 'step': '2', 'epoch': '2', 'tags': [{'key': 'sys_metric', 'value': 'no'}]}, {'key': 'momentum', 'value': 0.9, 'timestamp': '1642611548378', 'step': '2', 'epoch': '2', 'tags': [{'key': 'sys_metric', 'value': 'no'}]}], 'tags': [{'key': 'sys_metric', 'value': 'no'}]}}\n"
     ]
    },
    {
     "name": "stderr",
     "output_type": "stream",
     "text": [
      "2022-01-19 16:59:10,043 - mmcv - INFO - Epoch [3][130/391]\tlr: 1.000e-04, eta: 0:18:15, time: 0.153, data_time: 0.007, memory: 14, \n"
     ]
    },
    {
     "name": "stdout",
     "output_type": "stream",
     "text": [
      "endpoint:  /api/2.0/mlflow/runs/log-batch {'method': 'POST', 'json': {'run_id': '54d993fa893a4890a7eb84af33803069', 'metrics': [{'key': 'learning_rate', 'value': 0.0001, 'timestamp': '1642611550161', 'step': '2', 'epoch': '2', 'tags': [{'key': 'sys_metric', 'value': 'no'}]}, {'key': 'momentum', 'value': 0.9, 'timestamp': '1642611550161', 'step': '2', 'epoch': '2', 'tags': [{'key': 'sys_metric', 'value': 'no'}]}], 'tags': [{'key': 'sys_metric', 'value': 'no'}]}}\n"
     ]
    },
    {
     "name": "stderr",
     "output_type": "stream",
     "text": [
      "2022-01-19 16:59:11,665 - mmcv - INFO - Epoch [3][140/391]\tlr: 1.000e-04, eta: 0:17:59, time: 0.178, data_time: 0.008, memory: 14, \n"
     ]
    },
    {
     "name": "stdout",
     "output_type": "stream",
     "text": [
      "endpoint:  /api/2.0/mlflow/runs/log-batch {'method': 'POST', 'json': {'run_id': '54d993fa893a4890a7eb84af33803069', 'metrics': [{'key': 'learning_rate', 'value': 0.0001, 'timestamp': '1642611551813', 'step': '2', 'epoch': '2', 'tags': [{'key': 'sys_metric', 'value': 'no'}]}, {'key': 'momentum', 'value': 0.9, 'timestamp': '1642611551813', 'step': '2', 'epoch': '2', 'tags': [{'key': 'sys_metric', 'value': 'no'}]}], 'tags': [{'key': 'sys_metric', 'value': 'no'}]}}\n"
     ]
    },
    {
     "name": "stderr",
     "output_type": "stream",
     "text": [
      "2022-01-19 16:59:13,235 - mmcv - INFO - Epoch [3][150/391]\tlr: 1.000e-04, eta: 0:17:42, time: 0.165, data_time: 0.012, memory: 14, \n"
     ]
    },
    {
     "name": "stdout",
     "output_type": "stream",
     "text": [
      "endpoint:  /api/2.0/mlflow/runs/log-batch {'method': 'POST', 'json': {'run_id': '54d993fa893a4890a7eb84af33803069', 'metrics': [{'key': 'learning_rate', 'value': 0.0001, 'timestamp': '1642611553351', 'step': '2', 'epoch': '2', 'tags': [{'key': 'sys_metric', 'value': 'no'}]}, {'key': 'momentum', 'value': 0.9, 'timestamp': '1642611553351', 'step': '2', 'epoch': '2', 'tags': [{'key': 'sys_metric', 'value': 'no'}]}], 'tags': [{'key': 'sys_metric', 'value': 'no'}]}}\n"
     ]
    },
    {
     "name": "stderr",
     "output_type": "stream",
     "text": [
      "2022-01-19 16:59:14,773 - mmcv - INFO - Epoch [3][160/391]\tlr: 1.000e-04, eta: 0:17:24, time: 0.154, data_time: 0.007, memory: 14, \n"
     ]
    },
    {
     "name": "stdout",
     "output_type": "stream",
     "text": [
      "endpoint:  /api/2.0/mlflow/runs/log-batch {'method': 'POST', 'json': {'run_id': '54d993fa893a4890a7eb84af33803069', 'metrics': [{'key': 'learning_rate', 'value': 0.0001, 'timestamp': '1642611554888', 'step': '2', 'epoch': '2', 'tags': [{'key': 'sys_metric', 'value': 'no'}]}, {'key': 'momentum', 'value': 0.9, 'timestamp': '1642611554888', 'step': '2', 'epoch': '2', 'tags': [{'key': 'sys_metric', 'value': 'no'}]}], 'tags': [{'key': 'sys_metric', 'value': 'no'}]}}\n"
     ]
    },
    {
     "name": "stderr",
     "output_type": "stream",
     "text": [
      "2022-01-19 16:59:16,495 - mmcv - INFO - Epoch [3][170/391]\tlr: 1.000e-04, eta: 0:17:07, time: 0.154, data_time: 0.007, memory: 14, \n"
     ]
    },
    {
     "name": "stdout",
     "output_type": "stream",
     "text": [
      "endpoint:  /api/2.0/mlflow/runs/log-batch {'method': 'POST', 'json': {'run_id': '54d993fa893a4890a7eb84af33803069', 'metrics': [{'key': 'learning_rate', 'value': 0.0001, 'timestamp': '1642611556611', 'step': '2', 'epoch': '2', 'tags': [{'key': 'sys_metric', 'value': 'no'}]}, {'key': 'momentum', 'value': 0.9, 'timestamp': '1642611556611', 'step': '2', 'epoch': '2', 'tags': [{'key': 'sys_metric', 'value': 'no'}]}], 'tags': [{'key': 'sys_metric', 'value': 'no'}]}}\n"
     ]
    },
    {
     "name": "stderr",
     "output_type": "stream",
     "text": [
      "2022-01-19 16:59:18,265 - mmcv - INFO - Epoch [3][180/391]\tlr: 1.000e-04, eta: 0:16:50, time: 0.172, data_time: 0.007, memory: 14, \n"
     ]
    },
    {
     "name": "stdout",
     "output_type": "stream",
     "text": [
      "endpoint:  /api/2.0/mlflow/runs/log-batch {'method': 'POST', 'json': {'run_id': '54d993fa893a4890a7eb84af33803069', 'metrics': [{'key': 'learning_rate', 'value': 0.0001, 'timestamp': '1642611558381', 'step': '2', 'epoch': '2', 'tags': [{'key': 'sys_metric', 'value': 'no'}]}, {'key': 'momentum', 'value': 0.9, 'timestamp': '1642611558381', 'step': '2', 'epoch': '2', 'tags': [{'key': 'sys_metric', 'value': 'no'}]}], 'tags': [{'key': 'sys_metric', 'value': 'no'}]}}\n"
     ]
    },
    {
     "name": "stderr",
     "output_type": "stream",
     "text": [
      "2022-01-19 16:59:20,216 - mmcv - INFO - Epoch [3][190/391]\tlr: 1.000e-04, eta: 0:16:34, time: 0.177, data_time: 0.008, memory: 14, \n"
     ]
    },
    {
     "name": "stdout",
     "output_type": "stream",
     "text": [
      "endpoint:  /api/2.0/mlflow/runs/log-batch {'method': 'POST', 'json': {'run_id': '54d993fa893a4890a7eb84af33803069', 'metrics': [{'key': 'learning_rate', 'value': 0.0001, 'timestamp': '1642611560333', 'step': '2', 'epoch': '2', 'tags': [{'key': 'sys_metric', 'value': 'no'}]}, {'key': 'momentum', 'value': 0.9, 'timestamp': '1642611560333', 'step': '2', 'epoch': '2', 'tags': [{'key': 'sys_metric', 'value': 'no'}]}], 'tags': [{'key': 'sys_metric', 'value': 'no'}]}}\n"
     ]
    },
    {
     "name": "stderr",
     "output_type": "stream",
     "text": [
      "2022-01-19 16:59:21,829 - mmcv - INFO - Epoch [3][200/391]\tlr: 1.000e-04, eta: 0:16:17, time: 0.168, data_time: 0.008, memory: 14, \n"
     ]
    },
    {
     "name": "stdout",
     "output_type": "stream",
     "text": [
      "endpoint:  /api/2.0/mlflow/runs/log-batch {'method': 'POST', 'json': {'run_id': '54d993fa893a4890a7eb84af33803069', 'metrics': [{'key': 'learning_rate', 'value': 0.0001, 'timestamp': '1642611561989', 'step': '2', 'epoch': '2', 'tags': [{'key': 'sys_metric', 'value': 'no'}]}, {'key': 'momentum', 'value': 0.9, 'timestamp': '1642611561989', 'step': '2', 'epoch': '2', 'tags': [{'key': 'sys_metric', 'value': 'no'}]}], 'tags': [{'key': 'sys_metric', 'value': 'no'}]}}\n"
     ]
    },
    {
     "name": "stderr",
     "output_type": "stream",
     "text": [
      "2022-01-19 16:59:23,695 - mmcv - INFO - Epoch [3][210/391]\tlr: 1.000e-04, eta: 0:16:00, time: 0.164, data_time: 0.011, memory: 14, \n"
     ]
    },
    {
     "name": "stdout",
     "output_type": "stream",
     "text": [
      "endpoint:  /api/2.0/mlflow/runs/log-batch {'method': 'POST', 'json': {'run_id': '54d993fa893a4890a7eb84af33803069', 'metrics': [{'key': 'learning_rate', 'value': 0.0001, 'timestamp': '1642611563811', 'step': '2', 'epoch': '2', 'tags': [{'key': 'sys_metric', 'value': 'no'}]}, {'key': 'momentum', 'value': 0.9, 'timestamp': '1642611563811', 'step': '2', 'epoch': '2', 'tags': [{'key': 'sys_metric', 'value': 'no'}]}], 'tags': [{'key': 'sys_metric', 'value': 'no'}]}}\n"
     ]
    },
    {
     "name": "stderr",
     "output_type": "stream",
     "text": [
      "2022-01-19 16:59:25,324 - mmcv - INFO - Epoch [3][220/391]\tlr: 1.000e-04, eta: 0:15:44, time: 0.183, data_time: 0.007, memory: 14, \n"
     ]
    },
    {
     "name": "stdout",
     "output_type": "stream",
     "text": [
      "endpoint:  /api/2.0/mlflow/runs/log-batch {'method': 'POST', 'json': {'run_id': '54d993fa893a4890a7eb84af33803069', 'metrics': [{'key': 'learning_rate', 'value': 0.0001, 'timestamp': '1642611565441', 'step': '2', 'epoch': '2', 'tags': [{'key': 'sys_metric', 'value': 'no'}]}, {'key': 'momentum', 'value': 0.9, 'timestamp': '1642611565441', 'step': '2', 'epoch': '2', 'tags': [{'key': 'sys_metric', 'value': 'no'}]}], 'tags': [{'key': 'sys_metric', 'value': 'no'}]}}\n"
     ]
    },
    {
     "name": "stderr",
     "output_type": "stream",
     "text": [
      "2022-01-19 16:59:26,940 - mmcv - INFO - Epoch [3][230/391]\tlr: 1.000e-04, eta: 0:15:27, time: 0.163, data_time: 0.008, memory: 14, \n"
     ]
    },
    {
     "name": "stdout",
     "output_type": "stream",
     "text": [
      "endpoint:  /api/2.0/mlflow/runs/log-batch {'method': 'POST', 'json': {'run_id': '54d993fa893a4890a7eb84af33803069', 'metrics': [{'key': 'learning_rate', 'value': 0.0001, 'timestamp': '1642611567057', 'step': '2', 'epoch': '2', 'tags': [{'key': 'sys_metric', 'value': 'no'}]}, {'key': 'momentum', 'value': 0.9, 'timestamp': '1642611567057', 'step': '2', 'epoch': '2', 'tags': [{'key': 'sys_metric', 'value': 'no'}]}], 'tags': [{'key': 'sys_metric', 'value': 'no'}]}}\n"
     ]
    },
    {
     "name": "stderr",
     "output_type": "stream",
     "text": [
      "2022-01-19 16:59:28,531 - mmcv - INFO - Epoch [3][240/391]\tlr: 1.000e-04, eta: 0:15:10, time: 0.162, data_time: 0.008, memory: 14, \n"
     ]
    },
    {
     "name": "stdout",
     "output_type": "stream",
     "text": [
      "endpoint:  /api/2.0/mlflow/runs/log-batch {'method': 'POST', 'json': {'run_id': '54d993fa893a4890a7eb84af33803069', 'metrics': [{'key': 'learning_rate', 'value': 0.0001, 'timestamp': '1642611568675', 'step': '2', 'epoch': '2', 'tags': [{'key': 'sys_metric', 'value': 'no'}]}, {'key': 'momentum', 'value': 0.9, 'timestamp': '1642611568675', 'step': '2', 'epoch': '2', 'tags': [{'key': 'sys_metric', 'value': 'no'}]}], 'tags': [{'key': 'sys_metric', 'value': 'no'}]}}\n"
     ]
    },
    {
     "name": "stderr",
     "output_type": "stream",
     "text": [
      "2022-01-19 16:59:30,057 - mmcv - INFO - Epoch [3][250/391]\tlr: 1.000e-04, eta: 0:14:53, time: 0.162, data_time: 0.011, memory: 14, \n"
     ]
    },
    {
     "name": "stdout",
     "output_type": "stream",
     "text": [
      "endpoint:  /api/2.0/mlflow/runs/log-batch {'method': 'POST', 'json': {'run_id': '54d993fa893a4890a7eb84af33803069', 'metrics': [{'key': 'learning_rate', 'value': 0.0001, 'timestamp': '1642611570175', 'step': '2', 'epoch': '2', 'tags': [{'key': 'sys_metric', 'value': 'no'}]}, {'key': 'momentum', 'value': 0.9, 'timestamp': '1642611570175', 'step': '2', 'epoch': '2', 'tags': [{'key': 'sys_metric', 'value': 'no'}]}], 'tags': [{'key': 'sys_metric', 'value': 'no'}]}}\n"
     ]
    },
    {
     "name": "stderr",
     "output_type": "stream",
     "text": [
      "2022-01-19 16:59:31,542 - mmcv - INFO - Epoch [3][260/391]\tlr: 1.000e-04, eta: 0:14:35, time: 0.150, data_time: 0.007, memory: 14, \n"
     ]
    },
    {
     "name": "stdout",
     "output_type": "stream",
     "text": [
      "endpoint:  /api/2.0/mlflow/runs/log-batch {'method': 'POST', 'json': {'run_id': '54d993fa893a4890a7eb84af33803069', 'metrics': [{'key': 'learning_rate', 'value': 0.0001, 'timestamp': '1642611571676', 'step': '2', 'epoch': '2', 'tags': [{'key': 'sys_metric', 'value': 'no'}]}, {'key': 'momentum', 'value': 0.9, 'timestamp': '1642611571676', 'step': '2', 'epoch': '2', 'tags': [{'key': 'sys_metric', 'value': 'no'}]}], 'tags': [{'key': 'sys_metric', 'value': 'no'}]}}\n"
     ]
    },
    {
     "name": "stderr",
     "output_type": "stream",
     "text": [
      "2022-01-19 16:59:33,167 - mmcv - INFO - Epoch [3][270/391]\tlr: 1.000e-04, eta: 0:14:17, time: 0.150, data_time: 0.009, memory: 14, \n"
     ]
    },
    {
     "name": "stdout",
     "output_type": "stream",
     "text": [
      "endpoint:  /api/2.0/mlflow/runs/log-batch {'method': 'POST', 'json': {'run_id': '54d993fa893a4890a7eb84af33803069', 'metrics': [{'key': 'learning_rate', 'value': 0.0001, 'timestamp': '1642611573294', 'step': '2', 'epoch': '2', 'tags': [{'key': 'sys_metric', 'value': 'no'}]}, {'key': 'momentum', 'value': 0.9, 'timestamp': '1642611573294', 'step': '2', 'epoch': '2', 'tags': [{'key': 'sys_metric', 'value': 'no'}]}], 'tags': [{'key': 'sys_metric', 'value': 'no'}]}}\n"
     ]
    },
    {
     "name": "stderr",
     "output_type": "stream",
     "text": [
      "2022-01-19 16:59:34,778 - mmcv - INFO - Epoch [3][280/391]\tlr: 1.000e-04, eta: 0:14:00, time: 0.162, data_time: 0.008, memory: 14, \n"
     ]
    },
    {
     "name": "stdout",
     "output_type": "stream",
     "text": [
      "endpoint:  /api/2.0/mlflow/runs/log-batch {'method': 'POST', 'json': {'run_id': '54d993fa893a4890a7eb84af33803069', 'metrics': [{'key': 'learning_rate', 'value': 0.0001, 'timestamp': '1642611574896', 'step': '2', 'epoch': '2', 'tags': [{'key': 'sys_metric', 'value': 'no'}]}, {'key': 'momentum', 'value': 0.9, 'timestamp': '1642611574896', 'step': '2', 'epoch': '2', 'tags': [{'key': 'sys_metric', 'value': 'no'}]}], 'tags': [{'key': 'sys_metric', 'value': 'no'}]}}\n"
     ]
    },
    {
     "name": "stderr",
     "output_type": "stream",
     "text": [
      "2022-01-19 16:59:36,337 - mmcv - INFO - Epoch [3][290/391]\tlr: 1.000e-04, eta: 0:13:43, time: 0.160, data_time: 0.007, memory: 14, \n"
     ]
    },
    {
     "name": "stdout",
     "output_type": "stream",
     "text": [
      "endpoint:  /api/2.0/mlflow/runs/log-batch {'method': 'POST', 'json': {'run_id': '54d993fa893a4890a7eb84af33803069', 'metrics': [{'key': 'learning_rate', 'value': 0.0001, 'timestamp': '1642611576454', 'step': '2', 'epoch': '2', 'tags': [{'key': 'sys_metric', 'value': 'no'}]}, {'key': 'momentum', 'value': 0.9, 'timestamp': '1642611576454', 'step': '2', 'epoch': '2', 'tags': [{'key': 'sys_metric', 'value': 'no'}]}], 'tags': [{'key': 'sys_metric', 'value': 'no'}]}}\n"
     ]
    },
    {
     "name": "stderr",
     "output_type": "stream",
     "text": [
      "2022-01-19 16:59:37,831 - mmcv - INFO - Epoch [3][300/391]\tlr: 1.000e-04, eta: 0:13:26, time: 0.160, data_time: 0.008, memory: 14, \n"
     ]
    },
    {
     "name": "stdout",
     "output_type": "stream",
     "text": [
      "endpoint:  /api/2.0/mlflow/runs/log-batch {'method': 'POST', 'json': {'run_id': '54d993fa893a4890a7eb84af33803069', 'metrics': [{'key': 'learning_rate', 'value': 0.0001, 'timestamp': '1642611577969', 'step': '2', 'epoch': '2', 'tags': [{'key': 'sys_metric', 'value': 'no'}]}, {'key': 'momentum', 'value': 0.9, 'timestamp': '1642611577969', 'step': '2', 'epoch': '2', 'tags': [{'key': 'sys_metric', 'value': 'no'}]}], 'tags': [{'key': 'sys_metric', 'value': 'no'}]}}\n"
     ]
    },
    {
     "name": "stderr",
     "output_type": "stream",
     "text": [
      "2022-01-19 16:59:39,575 - mmcv - INFO - Epoch [3][310/391]\tlr: 1.000e-04, eta: 0:13:09, time: 0.152, data_time: 0.008, memory: 14, \n"
     ]
    },
    {
     "name": "stdout",
     "output_type": "stream",
     "text": [
      "endpoint:  /api/2.0/mlflow/runs/log-batch {'method': 'POST', 'json': {'run_id': '54d993fa893a4890a7eb84af33803069', 'metrics': [{'key': 'learning_rate', 'value': 0.0001, 'timestamp': '1642611579698', 'step': '2', 'epoch': '2', 'tags': [{'key': 'sys_metric', 'value': 'no'}]}, {'key': 'momentum', 'value': 0.9, 'timestamp': '1642611579698', 'step': '2', 'epoch': '2', 'tags': [{'key': 'sys_metric', 'value': 'no'}]}], 'tags': [{'key': 'sys_metric', 'value': 'no'}]}}\n"
     ]
    },
    {
     "name": "stderr",
     "output_type": "stream",
     "text": [
      "2022-01-19 16:59:41,217 - mmcv - INFO - Epoch [3][320/391]\tlr: 1.000e-04, eta: 0:12:52, time: 0.173, data_time: 0.008, memory: 14, \n"
     ]
    },
    {
     "name": "stdout",
     "output_type": "stream",
     "text": [
      "endpoint:  /api/2.0/mlflow/runs/log-batch {'method': 'POST', 'json': {'run_id': '54d993fa893a4890a7eb84af33803069', 'metrics': [{'key': 'learning_rate', 'value': 0.0001, 'timestamp': '1642611581347', 'step': '2', 'epoch': '2', 'tags': [{'key': 'sys_metric', 'value': 'no'}]}, {'key': 'momentum', 'value': 0.9, 'timestamp': '1642611581347', 'step': '2', 'epoch': '2', 'tags': [{'key': 'sys_metric', 'value': 'no'}]}], 'tags': [{'key': 'sys_metric', 'value': 'no'}]}}\n"
     ]
    },
    {
     "name": "stderr",
     "output_type": "stream",
     "text": [
      "2022-01-19 16:59:42,765 - mmcv - INFO - Epoch [3][330/391]\tlr: 1.000e-04, eta: 0:12:35, time: 0.165, data_time: 0.009, memory: 14, \n"
     ]
    },
    {
     "name": "stdout",
     "output_type": "stream",
     "text": [
      "endpoint:  /api/2.0/mlflow/runs/log-batch {'method': 'POST', 'json': {'run_id': '54d993fa893a4890a7eb84af33803069', 'metrics': [{'key': 'learning_rate', 'value': 0.0001, 'timestamp': '1642611582891', 'step': '2', 'epoch': '2', 'tags': [{'key': 'sys_metric', 'value': 'no'}]}, {'key': 'momentum', 'value': 0.9, 'timestamp': '1642611582891', 'step': '2', 'epoch': '2', 'tags': [{'key': 'sys_metric', 'value': 'no'}]}], 'tags': [{'key': 'sys_metric', 'value': 'no'}]}}\n"
     ]
    },
    {
     "name": "stderr",
     "output_type": "stream",
     "text": [
      "2022-01-19 16:59:44,498 - mmcv - INFO - Epoch [3][340/391]\tlr: 1.000e-04, eta: 0:12:18, time: 0.154, data_time: 0.008, memory: 14, \n"
     ]
    },
    {
     "name": "stdout",
     "output_type": "stream",
     "text": [
      "endpoint:  /api/2.0/mlflow/runs/log-batch {'method': 'POST', 'json': {'run_id': '54d993fa893a4890a7eb84af33803069', 'metrics': [{'key': 'learning_rate', 'value': 0.0001, 'timestamp': '1642611584618', 'step': '2', 'epoch': '2', 'tags': [{'key': 'sys_metric', 'value': 'no'}]}, {'key': 'momentum', 'value': 0.9, 'timestamp': '1642611584618', 'step': '2', 'epoch': '2', 'tags': [{'key': 'sys_metric', 'value': 'no'}]}], 'tags': [{'key': 'sys_metric', 'value': 'no'}]}}\n"
     ]
    },
    {
     "name": "stderr",
     "output_type": "stream",
     "text": [
      "2022-01-19 16:59:46,033 - mmcv - INFO - Epoch [3][350/391]\tlr: 1.000e-04, eta: 0:12:02, time: 0.173, data_time: 0.007, memory: 14, \n"
     ]
    },
    {
     "name": "stdout",
     "output_type": "stream",
     "text": [
      "endpoint:  /api/2.0/mlflow/runs/log-batch {'method': 'POST', 'json': {'run_id': '54d993fa893a4890a7eb84af33803069', 'metrics': [{'key': 'learning_rate', 'value': 0.0001, 'timestamp': '1642611586147', 'step': '2', 'epoch': '2', 'tags': [{'key': 'sys_metric', 'value': 'no'}]}, {'key': 'momentum', 'value': 0.9, 'timestamp': '1642611586147', 'step': '2', 'epoch': '2', 'tags': [{'key': 'sys_metric', 'value': 'no'}]}], 'tags': [{'key': 'sys_metric', 'value': 'no'}]}}\n"
     ]
    },
    {
     "name": "stderr",
     "output_type": "stream",
     "text": [
      "2022-01-19 16:59:47,601 - mmcv - INFO - Epoch [3][360/391]\tlr: 1.000e-04, eta: 0:11:45, time: 0.153, data_time: 0.007, memory: 14, \n"
     ]
    },
    {
     "name": "stdout",
     "output_type": "stream",
     "text": [
      "endpoint:  /api/2.0/mlflow/runs/log-batch {'method': 'POST', 'json': {'run_id': '54d993fa893a4890a7eb84af33803069', 'metrics': [{'key': 'learning_rate', 'value': 0.0001, 'timestamp': '1642611587721', 'step': '2', 'epoch': '2', 'tags': [{'key': 'sys_metric', 'value': 'no'}]}, {'key': 'momentum', 'value': 0.9, 'timestamp': '1642611587721', 'step': '2', 'epoch': '2', 'tags': [{'key': 'sys_metric', 'value': 'no'}]}], 'tags': [{'key': 'sys_metric', 'value': 'no'}]}}\n"
     ]
    },
    {
     "name": "stderr",
     "output_type": "stream",
     "text": [
      "2022-01-19 16:59:49,141 - mmcv - INFO - Epoch [3][370/391]\tlr: 1.000e-04, eta: 0:11:27, time: 0.157, data_time: 0.008, memory: 14, \n"
     ]
    },
    {
     "name": "stdout",
     "output_type": "stream",
     "text": [
      "endpoint:  /api/2.0/mlflow/runs/log-batch {'method': 'POST', 'json': {'run_id': '54d993fa893a4890a7eb84af33803069', 'metrics': [{'key': 'learning_rate', 'value': 0.0001, 'timestamp': '1642611589267', 'step': '2', 'epoch': '2', 'tags': [{'key': 'sys_metric', 'value': 'no'}]}, {'key': 'momentum', 'value': 0.9, 'timestamp': '1642611589267', 'step': '2', 'epoch': '2', 'tags': [{'key': 'sys_metric', 'value': 'no'}]}], 'tags': [{'key': 'sys_metric', 'value': 'no'}]}}\n"
     ]
    },
    {
     "name": "stderr",
     "output_type": "stream",
     "text": [
      "2022-01-19 16:59:50,758 - mmcv - INFO - Epoch [3][380/391]\tlr: 1.000e-04, eta: 0:11:10, time: 0.155, data_time: 0.009, memory: 14, \n"
     ]
    },
    {
     "name": "stdout",
     "output_type": "stream",
     "text": [
      "endpoint:  /api/2.0/mlflow/runs/log-batch {'method': 'POST', 'json': {'run_id': '54d993fa893a4890a7eb84af33803069', 'metrics': [{'key': 'learning_rate', 'value': 0.0001, 'timestamp': '1642611590905', 'step': '2', 'epoch': '2', 'tags': [{'key': 'sys_metric', 'value': 'no'}]}, {'key': 'momentum', 'value': 0.9, 'timestamp': '1642611590905', 'step': '2', 'epoch': '2', 'tags': [{'key': 'sys_metric', 'value': 'no'}]}], 'tags': [{'key': 'sys_metric', 'value': 'no'}]}}\n"
     ]
    },
    {
     "name": "stderr",
     "output_type": "stream",
     "text": [
      "2022-01-19 16:59:52,500 - mmcv - INFO - Epoch [3][390/391]\tlr: 1.000e-04, eta: 0:10:54, time: 0.164, data_time: 0.011, memory: 14, \n",
      "2022-01-19 16:59:52,541 - mmcv - INFO - Saving checkpoint at 3 epochs\n"
     ]
    },
    {
     "name": "stdout",
     "output_type": "stream",
     "text": [
      "endpoint:  /api/2.0/mlflow/runs/log-batch {'method': 'POST', 'json': {'run_id': '54d993fa893a4890a7eb84af33803069', 'metrics': [{'key': 'learning_rate', 'value': 1.0000000000000003e-05, 'timestamp': '1642611594797', 'step': '3', 'epoch': '3', 'tags': [{'key': 'sys_metric', 'value': 'no'}]}, {'key': 'momentum', 'value': 0.9, 'timestamp': '1642611594797', 'step': '3', 'epoch': '3', 'tags': [{'key': 'sys_metric', 'value': 'no'}]}], 'tags': [{'key': 'sys_metric', 'value': 'no'}]}}\n"
     ]
    },
    {
     "name": "stderr",
     "output_type": "stream",
     "text": [
      "2022-01-19 16:59:56,218 - mmcv - INFO - Epoch [4][10/391]\tlr: 1.000e-05, eta: 0:10:37, time: 0.249, data_time: 0.220, memory: 14, \n"
     ]
    },
    {
     "name": "stdout",
     "output_type": "stream",
     "text": [
      "endpoint:  /api/2.0/mlflow/runs/log-batch {'method': 'POST', 'json': {'run_id': '54d993fa893a4890a7eb84af33803069', 'metrics': [{'key': 'learning_rate', 'value': 1.0000000000000003e-05, 'timestamp': '1642611596329', 'step': '3', 'epoch': '3', 'tags': [{'key': 'sys_metric', 'value': 'no'}]}, {'key': 'momentum', 'value': 0.9, 'timestamp': '1642611596329', 'step': '3', 'epoch': '3', 'tags': [{'key': 'sys_metric', 'value': 'no'}]}], 'tags': [{'key': 'sys_metric', 'value': 'no'}]}}\n"
     ]
    },
    {
     "name": "stderr",
     "output_type": "stream",
     "text": [
      "2022-01-19 16:59:57,933 - mmcv - INFO - Epoch [4][20/391]\tlr: 1.000e-05, eta: 0:10:20, time: 0.153, data_time: 0.007, memory: 14, \n"
     ]
    },
    {
     "name": "stdout",
     "output_type": "stream",
     "text": [
      "endpoint:  /api/2.0/mlflow/runs/log-batch {'method': 'POST', 'json': {'run_id': '54d993fa893a4890a7eb84af33803069', 'metrics': [{'key': 'learning_rate', 'value': 1.0000000000000003e-05, 'timestamp': '1642611598072', 'step': '3', 'epoch': '3', 'tags': [{'key': 'sys_metric', 'value': 'no'}]}, {'key': 'momentum', 'value': 0.9, 'timestamp': '1642611598072', 'step': '3', 'epoch': '3', 'tags': [{'key': 'sys_metric', 'value': 'no'}]}], 'tags': [{'key': 'sys_metric', 'value': 'no'}]}}\n"
     ]
    },
    {
     "name": "stderr",
     "output_type": "stream",
     "text": [
      "2022-01-19 16:59:59,590 - mmcv - INFO - Epoch [4][30/391]\tlr: 1.000e-05, eta: 0:10:04, time: 0.174, data_time: 0.010, memory: 14, \n"
     ]
    },
    {
     "name": "stdout",
     "output_type": "stream",
     "text": [
      "endpoint:  /api/2.0/mlflow/runs/log-batch {'method': 'POST', 'json': {'run_id': '54d993fa893a4890a7eb84af33803069', 'metrics': [{'key': 'learning_rate', 'value': 1.0000000000000003e-05, 'timestamp': '1642611599728', 'step': '3', 'epoch': '3', 'tags': [{'key': 'sys_metric', 'value': 'no'}]}, {'key': 'momentum', 'value': 0.9, 'timestamp': '1642611599728', 'step': '3', 'epoch': '3', 'tags': [{'key': 'sys_metric', 'value': 'no'}]}], 'tags': [{'key': 'sys_metric', 'value': 'no'}]}}\n"
     ]
    },
    {
     "name": "stderr",
     "output_type": "stream",
     "text": [
      "2022-01-19 17:00:01,218 - mmcv - INFO - Epoch [4][40/391]\tlr: 1.000e-05, eta: 0:09:47, time: 0.166, data_time: 0.010, memory: 14, \n"
     ]
    },
    {
     "name": "stdout",
     "output_type": "stream",
     "text": [
      "endpoint:  /api/2.0/mlflow/runs/log-batch {'method': 'POST', 'json': {'run_id': '54d993fa893a4890a7eb84af33803069', 'metrics': [{'key': 'learning_rate', 'value': 1.0000000000000003e-05, 'timestamp': '1642611601341', 'step': '3', 'epoch': '3', 'tags': [{'key': 'sys_metric', 'value': 'no'}]}, {'key': 'momentum', 'value': 0.9, 'timestamp': '1642611601341', 'step': '3', 'epoch': '3', 'tags': [{'key': 'sys_metric', 'value': 'no'}]}], 'tags': [{'key': 'sys_metric', 'value': 'no'}]}}\n"
     ]
    },
    {
     "name": "stderr",
     "output_type": "stream",
     "text": [
      "2022-01-19 17:00:02,786 - mmcv - INFO - Epoch [4][50/391]\tlr: 1.000e-05, eta: 0:09:30, time: 0.161, data_time: 0.008, memory: 14, \n"
     ]
    },
    {
     "name": "stdout",
     "output_type": "stream",
     "text": [
      "endpoint:  /api/2.0/mlflow/runs/log-batch {'method': 'POST', 'json': {'run_id': '54d993fa893a4890a7eb84af33803069', 'metrics': [{'key': 'learning_rate', 'value': 1.0000000000000003e-05, 'timestamp': '1642611602904', 'step': '3', 'epoch': '3', 'tags': [{'key': 'sys_metric', 'value': 'no'}]}, {'key': 'momentum', 'value': 0.9, 'timestamp': '1642611602904', 'step': '3', 'epoch': '3', 'tags': [{'key': 'sys_metric', 'value': 'no'}]}], 'tags': [{'key': 'sys_metric', 'value': 'no'}]}}\n"
     ]
    },
    {
     "name": "stderr",
     "output_type": "stream",
     "text": [
      "2022-01-19 17:00:04,372 - mmcv - INFO - Epoch [4][60/391]\tlr: 1.000e-05, eta: 0:09:13, time: 0.156, data_time: 0.007, memory: 14, \n"
     ]
    },
    {
     "name": "stdout",
     "output_type": "stream",
     "text": [
      "endpoint:  /api/2.0/mlflow/runs/log-batch {'method': 'POST', 'json': {'run_id': '54d993fa893a4890a7eb84af33803069', 'metrics': [{'key': 'learning_rate', 'value': 1.0000000000000003e-05, 'timestamp': '1642611604490', 'step': '3', 'epoch': '3', 'tags': [{'key': 'sys_metric', 'value': 'no'}]}, {'key': 'momentum', 'value': 0.9, 'timestamp': '1642611604490', 'step': '3', 'epoch': '3', 'tags': [{'key': 'sys_metric', 'value': 'no'}]}], 'tags': [{'key': 'sys_metric', 'value': 'no'}]}}\n"
     ]
    },
    {
     "name": "stderr",
     "output_type": "stream",
     "text": [
      "2022-01-19 17:00:06,018 - mmcv - INFO - Epoch [4][70/391]\tlr: 1.000e-05, eta: 0:08:56, time: 0.158, data_time: 0.007, memory: 14, \n"
     ]
    },
    {
     "name": "stdout",
     "output_type": "stream",
     "text": [
      "endpoint:  /api/2.0/mlflow/runs/log-batch {'method': 'POST', 'json': {'run_id': '54d993fa893a4890a7eb84af33803069', 'metrics': [{'key': 'learning_rate', 'value': 1.0000000000000003e-05, 'timestamp': '1642611606135', 'step': '3', 'epoch': '3', 'tags': [{'key': 'sys_metric', 'value': 'no'}]}, {'key': 'momentum', 'value': 0.9, 'timestamp': '1642611606135', 'step': '3', 'epoch': '3', 'tags': [{'key': 'sys_metric', 'value': 'no'}]}], 'tags': [{'key': 'sys_metric', 'value': 'no'}]}}\n"
     ]
    },
    {
     "name": "stderr",
     "output_type": "stream",
     "text": [
      "2022-01-19 17:00:07,627 - mmcv - INFO - Epoch [4][80/391]\tlr: 1.000e-05, eta: 0:08:39, time: 0.165, data_time: 0.007, memory: 14, \n"
     ]
    },
    {
     "name": "stdout",
     "output_type": "stream",
     "text": [
      "endpoint:  /api/2.0/mlflow/runs/log-batch {'method': 'POST', 'json': {'run_id': '54d993fa893a4890a7eb84af33803069', 'metrics': [{'key': 'learning_rate', 'value': 1.0000000000000003e-05, 'timestamp': '1642611607775', 'step': '3', 'epoch': '3', 'tags': [{'key': 'sys_metric', 'value': 'no'}]}, {'key': 'momentum', 'value': 0.9, 'timestamp': '1642611607775', 'step': '3', 'epoch': '3', 'tags': [{'key': 'sys_metric', 'value': 'no'}]}], 'tags': [{'key': 'sys_metric', 'value': 'no'}]}}\n"
     ]
    },
    {
     "name": "stderr",
     "output_type": "stream",
     "text": [
      "2022-01-19 17:00:09,255 - mmcv - INFO - Epoch [4][90/391]\tlr: 1.000e-05, eta: 0:08:22, time: 0.164, data_time: 0.011, memory: 14, \n"
     ]
    },
    {
     "name": "stdout",
     "output_type": "stream",
     "text": [
      "endpoint:  /api/2.0/mlflow/runs/log-batch {'method': 'POST', 'json': {'run_id': '54d993fa893a4890a7eb84af33803069', 'metrics': [{'key': 'learning_rate', 'value': 1.0000000000000003e-05, 'timestamp': '1642611609410', 'step': '3', 'epoch': '3', 'tags': [{'key': 'sys_metric', 'value': 'no'}]}, {'key': 'momentum', 'value': 0.9, 'timestamp': '1642611609410', 'step': '3', 'epoch': '3', 'tags': [{'key': 'sys_metric', 'value': 'no'}]}], 'tags': [{'key': 'sys_metric', 'value': 'no'}]}}\n"
     ]
    },
    {
     "name": "stderr",
     "output_type": "stream",
     "text": [
      "2022-01-19 17:00:10,943 - mmcv - INFO - Epoch [4][100/391]\tlr: 1.000e-05, eta: 0:08:06, time: 0.184, data_time: 0.030, memory: 14, \n"
     ]
    },
    {
     "name": "stdout",
     "output_type": "stream",
     "text": [
      "endpoint:  /api/2.0/mlflow/runs/log-batch {'method': 'POST', 'json': {'run_id': '54d993fa893a4890a7eb84af33803069', 'metrics': [{'key': 'learning_rate', 'value': 1.0000000000000003e-05, 'timestamp': '1642611611082', 'step': '3', 'epoch': '3', 'tags': [{'key': 'sys_metric', 'value': 'no'}]}, {'key': 'momentum', 'value': 0.9, 'timestamp': '1642611611082', 'step': '3', 'epoch': '3', 'tags': [{'key': 'sys_metric', 'value': 'no'}]}], 'tags': [{'key': 'sys_metric', 'value': 'no'}]}}\n"
     ]
    },
    {
     "name": "stderr",
     "output_type": "stream",
     "text": [
      "2022-01-19 17:00:12,601 - mmcv - INFO - Epoch [4][110/391]\tlr: 1.000e-05, eta: 0:07:49, time: 0.167, data_time: 0.010, memory: 14, \n"
     ]
    },
    {
     "name": "stdout",
     "output_type": "stream",
     "text": [
      "endpoint:  /api/2.0/mlflow/runs/log-batch {'method': 'POST', 'json': {'run_id': '54d993fa893a4890a7eb84af33803069', 'metrics': [{'key': 'learning_rate', 'value': 1.0000000000000003e-05, 'timestamp': '1642611612722', 'step': '3', 'epoch': '3', 'tags': [{'key': 'sys_metric', 'value': 'no'}]}, {'key': 'momentum', 'value': 0.9, 'timestamp': '1642611612722', 'step': '3', 'epoch': '3', 'tags': [{'key': 'sys_metric', 'value': 'no'}]}], 'tags': [{'key': 'sys_metric', 'value': 'no'}]}}\n"
     ]
    },
    {
     "name": "stderr",
     "output_type": "stream",
     "text": [
      "2022-01-19 17:00:14,318 - mmcv - INFO - Epoch [4][120/391]\tlr: 1.000e-05, eta: 0:07:33, time: 0.164, data_time: 0.007, memory: 14, \n"
     ]
    },
    {
     "name": "stdout",
     "output_type": "stream",
     "text": [
      "endpoint:  /api/2.0/mlflow/runs/log-batch {'method': 'POST', 'json': {'run_id': '54d993fa893a4890a7eb84af33803069', 'metrics': [{'key': 'learning_rate', 'value': 1.0000000000000003e-05, 'timestamp': '1642611614433', 'step': '3', 'epoch': '3', 'tags': [{'key': 'sys_metric', 'value': 'no'}]}, {'key': 'momentum', 'value': 0.9, 'timestamp': '1642611614433', 'step': '3', 'epoch': '3', 'tags': [{'key': 'sys_metric', 'value': 'no'}]}], 'tags': [{'key': 'sys_metric', 'value': 'no'}]}}\n"
     ]
    },
    {
     "name": "stderr",
     "output_type": "stream",
     "text": [
      "2022-01-19 17:00:16,046 - mmcv - INFO - Epoch [4][130/391]\tlr: 1.000e-05, eta: 0:07:16, time: 0.171, data_time: 0.007, memory: 14, \n"
     ]
    },
    {
     "name": "stdout",
     "output_type": "stream",
     "text": [
      "endpoint:  /api/2.0/mlflow/runs/log-batch {'method': 'POST', 'json': {'run_id': '54d993fa893a4890a7eb84af33803069', 'metrics': [{'key': 'learning_rate', 'value': 1.0000000000000003e-05, 'timestamp': '1642611616161', 'step': '3', 'epoch': '3', 'tags': [{'key': 'sys_metric', 'value': 'no'}]}, {'key': 'momentum', 'value': 0.9, 'timestamp': '1642611616161', 'step': '3', 'epoch': '3', 'tags': [{'key': 'sys_metric', 'value': 'no'}]}], 'tags': [{'key': 'sys_metric', 'value': 'no'}]}}\n"
     ]
    },
    {
     "name": "stderr",
     "output_type": "stream",
     "text": [
      "2022-01-19 17:00:17,608 - mmcv - INFO - Epoch [4][140/391]\tlr: 1.000e-05, eta: 0:06:59, time: 0.173, data_time: 0.007, memory: 14, \n"
     ]
    },
    {
     "name": "stdout",
     "output_type": "stream",
     "text": [
      "endpoint:  /api/2.0/mlflow/runs/log-batch {'method': 'POST', 'json': {'run_id': '54d993fa893a4890a7eb84af33803069', 'metrics': [{'key': 'learning_rate', 'value': 1.0000000000000003e-05, 'timestamp': '1642611617724', 'step': '3', 'epoch': '3', 'tags': [{'key': 'sys_metric', 'value': 'no'}]}, {'key': 'momentum', 'value': 0.9, 'timestamp': '1642611617724', 'step': '3', 'epoch': '3', 'tags': [{'key': 'sys_metric', 'value': 'no'}]}], 'tags': [{'key': 'sys_metric', 'value': 'no'}]}}\n"
     ]
    },
    {
     "name": "stderr",
     "output_type": "stream",
     "text": [
      "2022-01-19 17:00:19,160 - mmcv - INFO - Epoch [4][150/391]\tlr: 1.000e-05, eta: 0:06:42, time: 0.156, data_time: 0.007, memory: 14, \n"
     ]
    },
    {
     "name": "stdout",
     "output_type": "stream",
     "text": [
      "endpoint:  /api/2.0/mlflow/runs/log-batch {'method': 'POST', 'json': {'run_id': '54d993fa893a4890a7eb84af33803069', 'metrics': [{'key': 'learning_rate', 'value': 1.0000000000000003e-05, 'timestamp': '1642611619297', 'step': '3', 'epoch': '3', 'tags': [{'key': 'sys_metric', 'value': 'no'}]}, {'key': 'momentum', 'value': 0.9, 'timestamp': '1642611619297', 'step': '3', 'epoch': '3', 'tags': [{'key': 'sys_metric', 'value': 'no'}]}], 'tags': [{'key': 'sys_metric', 'value': 'no'}]}}\n"
     ]
    },
    {
     "name": "stderr",
     "output_type": "stream",
     "text": [
      "2022-01-19 17:00:20,916 - mmcv - INFO - Epoch [4][160/391]\tlr: 1.000e-05, eta: 0:06:25, time: 0.158, data_time: 0.010, memory: 14, \n"
     ]
    },
    {
     "name": "stdout",
     "output_type": "stream",
     "text": [
      "endpoint:  /api/2.0/mlflow/runs/log-batch {'method': 'POST', 'json': {'run_id': '54d993fa893a4890a7eb84af33803069', 'metrics': [{'key': 'learning_rate', 'value': 1.0000000000000003e-05, 'timestamp': '1642611621037', 'step': '3', 'epoch': '3', 'tags': [{'key': 'sys_metric', 'value': 'no'}]}, {'key': 'momentum', 'value': 0.9, 'timestamp': '1642611621037', 'step': '3', 'epoch': '3', 'tags': [{'key': 'sys_metric', 'value': 'no'}]}], 'tags': [{'key': 'sys_metric', 'value': 'no'}]}}\n"
     ]
    },
    {
     "name": "stderr",
     "output_type": "stream",
     "text": [
      "2022-01-19 17:00:22,598 - mmcv - INFO - Epoch [4][170/391]\tlr: 1.000e-05, eta: 0:06:09, time: 0.174, data_time: 0.007, memory: 14, \n"
     ]
    },
    {
     "name": "stdout",
     "output_type": "stream",
     "text": [
      "endpoint:  /api/2.0/mlflow/runs/log-batch {'method': 'POST', 'json': {'run_id': '54d993fa893a4890a7eb84af33803069', 'metrics': [{'key': 'learning_rate', 'value': 1.0000000000000003e-05, 'timestamp': '1642611622722', 'step': '3', 'epoch': '3', 'tags': [{'key': 'sys_metric', 'value': 'no'}]}, {'key': 'momentum', 'value': 0.9, 'timestamp': '1642611622722', 'step': '3', 'epoch': '3', 'tags': [{'key': 'sys_metric', 'value': 'no'}]}], 'tags': [{'key': 'sys_metric', 'value': 'no'}]}}\n"
     ]
    },
    {
     "name": "stderr",
     "output_type": "stream",
     "text": [
      "2022-01-19 17:00:24,212 - mmcv - INFO - Epoch [4][180/391]\tlr: 1.000e-05, eta: 0:05:52, time: 0.169, data_time: 0.008, memory: 14, \n"
     ]
    },
    {
     "name": "stdout",
     "output_type": "stream",
     "text": [
      "endpoint:  /api/2.0/mlflow/runs/log-batch {'method': 'POST', 'json': {'run_id': '54d993fa893a4890a7eb84af33803069', 'metrics': [{'key': 'learning_rate', 'value': 1.0000000000000003e-05, 'timestamp': '1642611624328', 'step': '3', 'epoch': '3', 'tags': [{'key': 'sys_metric', 'value': 'no'}]}, {'key': 'momentum', 'value': 0.9, 'timestamp': '1642611624328', 'step': '3', 'epoch': '3', 'tags': [{'key': 'sys_metric', 'value': 'no'}]}], 'tags': [{'key': 'sys_metric', 'value': 'no'}]}}\n"
     ]
    },
    {
     "name": "stderr",
     "output_type": "stream",
     "text": [
      "2022-01-19 17:00:25,755 - mmcv - INFO - Epoch [4][190/391]\tlr: 1.000e-05, eta: 0:05:35, time: 0.160, data_time: 0.007, memory: 14, \n"
     ]
    },
    {
     "name": "stdout",
     "output_type": "stream",
     "text": [
      "endpoint:  /api/2.0/mlflow/runs/log-batch {'method': 'POST', 'json': {'run_id': '54d993fa893a4890a7eb84af33803069', 'metrics': [{'key': 'learning_rate', 'value': 1.0000000000000003e-05, 'timestamp': '1642611625905', 'step': '3', 'epoch': '3', 'tags': [{'key': 'sys_metric', 'value': 'no'}]}, {'key': 'momentum', 'value': 0.9, 'timestamp': '1642611625905', 'step': '3', 'epoch': '3', 'tags': [{'key': 'sys_metric', 'value': 'no'}]}], 'tags': [{'key': 'sys_metric', 'value': 'no'}]}}\n"
     ]
    },
    {
     "name": "stderr",
     "output_type": "stream",
     "text": [
      "2022-01-19 17:00:27,520 - mmcv - INFO - Epoch [4][200/391]\tlr: 1.000e-05, eta: 0:05:19, time: 0.166, data_time: 0.008, memory: 14, \n"
     ]
    },
    {
     "name": "stdout",
     "output_type": "stream",
     "text": [
      "endpoint:  /api/2.0/mlflow/runs/log-batch {'method': 'POST', 'json': {'run_id': '54d993fa893a4890a7eb84af33803069', 'metrics': [{'key': 'learning_rate', 'value': 1.0000000000000003e-05, 'timestamp': '1642611627639', 'step': '3', 'epoch': '3', 'tags': [{'key': 'sys_metric', 'value': 'no'}]}, {'key': 'momentum', 'value': 0.9, 'timestamp': '1642611627639', 'step': '3', 'epoch': '3', 'tags': [{'key': 'sys_metric', 'value': 'no'}]}], 'tags': [{'key': 'sys_metric', 'value': 'no'}]}}\n"
     ]
    },
    {
     "name": "stderr",
     "output_type": "stream",
     "text": [
      "2022-01-19 17:00:29,205 - mmcv - INFO - Epoch [4][210/391]\tlr: 1.000e-05, eta: 0:05:02, time: 0.173, data_time: 0.007, memory: 14, \n"
     ]
    },
    {
     "name": "stdout",
     "output_type": "stream",
     "text": [
      "endpoint:  /api/2.0/mlflow/runs/log-batch {'method': 'POST', 'json': {'run_id': '54d993fa893a4890a7eb84af33803069', 'metrics': [{'key': 'learning_rate', 'value': 1.0000000000000003e-05, 'timestamp': '1642611629318', 'step': '3', 'epoch': '3', 'tags': [{'key': 'sys_metric', 'value': 'no'}]}, {'key': 'momentum', 'value': 0.9, 'timestamp': '1642611629318', 'step': '3', 'epoch': '3', 'tags': [{'key': 'sys_metric', 'value': 'no'}]}], 'tags': [{'key': 'sys_metric', 'value': 'no'}]}}\n"
     ]
    },
    {
     "name": "stderr",
     "output_type": "stream",
     "text": [
      "2022-01-19 17:00:30,734 - mmcv - INFO - Epoch [4][220/391]\tlr: 1.000e-05, eta: 0:04:45, time: 0.168, data_time: 0.007, memory: 14, \n"
     ]
    },
    {
     "name": "stdout",
     "output_type": "stream",
     "text": [
      "endpoint:  /api/2.0/mlflow/runs/log-batch {'method': 'POST', 'json': {'run_id': '54d993fa893a4890a7eb84af33803069', 'metrics': [{'key': 'learning_rate', 'value': 1.0000000000000003e-05, 'timestamp': '1642611630882', 'step': '3', 'epoch': '3', 'tags': [{'key': 'sys_metric', 'value': 'no'}]}, {'key': 'momentum', 'value': 0.9, 'timestamp': '1642611630882', 'step': '3', 'epoch': '3', 'tags': [{'key': 'sys_metric', 'value': 'no'}]}], 'tags': [{'key': 'sys_metric', 'value': 'no'}]}}\n"
     ]
    },
    {
     "name": "stderr",
     "output_type": "stream",
     "text": [
      "2022-01-19 17:00:32,488 - mmcv - INFO - Epoch [4][230/391]\tlr: 1.000e-05, eta: 0:04:28, time: 0.156, data_time: 0.012, memory: 14, \n"
     ]
    },
    {
     "name": "stdout",
     "output_type": "stream",
     "text": [
      "endpoint:  /api/2.0/mlflow/runs/log-batch {'method': 'POST', 'json': {'run_id': '54d993fa893a4890a7eb84af33803069', 'metrics': [{'key': 'learning_rate', 'value': 1.0000000000000003e-05, 'timestamp': '1642611632603', 'step': '3', 'epoch': '3', 'tags': [{'key': 'sys_metric', 'value': 'no'}]}, {'key': 'momentum', 'value': 0.9, 'timestamp': '1642611632603', 'step': '3', 'epoch': '3', 'tags': [{'key': 'sys_metric', 'value': 'no'}]}], 'tags': [{'key': 'sys_metric', 'value': 'no'}]}}\n"
     ]
    },
    {
     "name": "stderr",
     "output_type": "stream",
     "text": [
      "2022-01-19 17:00:34,021 - mmcv - INFO - Epoch [4][240/391]\tlr: 1.000e-05, eta: 0:04:12, time: 0.172, data_time: 0.007, memory: 14, \n"
     ]
    },
    {
     "name": "stdout",
     "output_type": "stream",
     "text": [
      "endpoint:  /api/2.0/mlflow/runs/log-batch {'method': 'POST', 'json': {'run_id': '54d993fa893a4890a7eb84af33803069', 'metrics': [{'key': 'learning_rate', 'value': 1.0000000000000003e-05, 'timestamp': '1642611634136', 'step': '3', 'epoch': '3', 'tags': [{'key': 'sys_metric', 'value': 'no'}]}, {'key': 'momentum', 'value': 0.9, 'timestamp': '1642611634136', 'step': '3', 'epoch': '3', 'tags': [{'key': 'sys_metric', 'value': 'no'}]}], 'tags': [{'key': 'sys_metric', 'value': 'no'}]}}\n"
     ]
    },
    {
     "name": "stderr",
     "output_type": "stream",
     "text": [
      "2022-01-19 17:00:35,595 - mmcv - INFO - Epoch [4][250/391]\tlr: 1.000e-05, eta: 0:03:55, time: 0.154, data_time: 0.007, memory: 14, \n"
     ]
    },
    {
     "name": "stdout",
     "output_type": "stream",
     "text": [
      "endpoint:  /api/2.0/mlflow/runs/log-batch {'method': 'POST', 'json': {'run_id': '54d993fa893a4890a7eb84af33803069', 'metrics': [{'key': 'learning_rate', 'value': 1.0000000000000003e-05, 'timestamp': '1642611635732', 'step': '3', 'epoch': '3', 'tags': [{'key': 'sys_metric', 'value': 'no'}]}, {'key': 'momentum', 'value': 0.9, 'timestamp': '1642611635732', 'step': '3', 'epoch': '3', 'tags': [{'key': 'sys_metric', 'value': 'no'}]}], 'tags': [{'key': 'sys_metric', 'value': 'no'}]}}\n"
     ]
    },
    {
     "name": "stderr",
     "output_type": "stream",
     "text": [
      "2022-01-19 17:00:37,255 - mmcv - INFO - Epoch [4][260/391]\tlr: 1.000e-05, eta: 0:03:38, time: 0.160, data_time: 0.010, memory: 14, \n"
     ]
    },
    {
     "name": "stdout",
     "output_type": "stream",
     "text": [
      "endpoint:  /api/2.0/mlflow/runs/log-batch {'method': 'POST', 'json': {'run_id': '54d993fa893a4890a7eb84af33803069', 'metrics': [{'key': 'learning_rate', 'value': 1.0000000000000003e-05, 'timestamp': '1642611637402', 'step': '3', 'epoch': '3', 'tags': [{'key': 'sys_metric', 'value': 'no'}]}, {'key': 'momentum', 'value': 0.9, 'timestamp': '1642611637402', 'step': '3', 'epoch': '3', 'tags': [{'key': 'sys_metric', 'value': 'no'}]}], 'tags': [{'key': 'sys_metric', 'value': 'no'}]}}\n"
     ]
    },
    {
     "name": "stderr",
     "output_type": "stream",
     "text": [
      "2022-01-19 17:00:39,004 - mmcv - INFO - Epoch [4][270/391]\tlr: 1.000e-05, eta: 0:03:22, time: 0.167, data_time: 0.011, memory: 14, \n"
     ]
    },
    {
     "name": "stdout",
     "output_type": "stream",
     "text": [
      "endpoint:  /api/2.0/mlflow/runs/log-batch {'method': 'POST', 'json': {'run_id': '54d993fa893a4890a7eb84af33803069', 'metrics': [{'key': 'learning_rate', 'value': 1.0000000000000003e-05, 'timestamp': '1642611639142', 'step': '3', 'epoch': '3', 'tags': [{'key': 'sys_metric', 'value': 'no'}]}, {'key': 'momentum', 'value': 0.9, 'timestamp': '1642611639142', 'step': '3', 'epoch': '3', 'tags': [{'key': 'sys_metric', 'value': 'no'}]}], 'tags': [{'key': 'sys_metric', 'value': 'no'}]}}\n"
     ]
    },
    {
     "name": "stderr",
     "output_type": "stream",
     "text": [
      "2022-01-19 17:00:40,647 - mmcv - INFO - Epoch [4][280/391]\tlr: 1.000e-05, eta: 0:03:05, time: 0.174, data_time: 0.010, memory: 14, \n"
     ]
    },
    {
     "name": "stdout",
     "output_type": "stream",
     "text": [
      "endpoint:  /api/2.0/mlflow/runs/log-batch {'method': 'POST', 'json': {'run_id': '54d993fa893a4890a7eb84af33803069', 'metrics': [{'key': 'learning_rate', 'value': 1.0000000000000003e-05, 'timestamp': '1642611640782', 'step': '3', 'epoch': '3', 'tags': [{'key': 'sys_metric', 'value': 'no'}]}, {'key': 'momentum', 'value': 0.9, 'timestamp': '1642611640782', 'step': '3', 'epoch': '3', 'tags': [{'key': 'sys_metric', 'value': 'no'}]}], 'tags': [{'key': 'sys_metric', 'value': 'no'}]}}\n"
     ]
    },
    {
     "name": "stderr",
     "output_type": "stream",
     "text": [
      "2022-01-19 17:00:42,314 - mmcv - INFO - Epoch [4][290/391]\tlr: 1.000e-05, eta: 0:02:48, time: 0.164, data_time: 0.009, memory: 14, \n"
     ]
    },
    {
     "name": "stdout",
     "output_type": "stream",
     "text": [
      "endpoint:  /api/2.0/mlflow/runs/log-batch {'method': 'POST', 'json': {'run_id': '54d993fa893a4890a7eb84af33803069', 'metrics': [{'key': 'learning_rate', 'value': 1.0000000000000003e-05, 'timestamp': '1642611642431', 'step': '3', 'epoch': '3', 'tags': [{'key': 'sys_metric', 'value': 'no'}]}, {'key': 'momentum', 'value': 0.9, 'timestamp': '1642611642431', 'step': '3', 'epoch': '3', 'tags': [{'key': 'sys_metric', 'value': 'no'}]}], 'tags': [{'key': 'sys_metric', 'value': 'no'}]}}\n"
     ]
    },
    {
     "name": "stderr",
     "output_type": "stream",
     "text": [
      "2022-01-19 17:00:43,859 - mmcv - INFO - Epoch [4][300/391]\tlr: 1.000e-05, eta: 0:02:31, time: 0.163, data_time: 0.009, memory: 14, \n"
     ]
    },
    {
     "name": "stdout",
     "output_type": "stream",
     "text": [
      "endpoint:  /api/2.0/mlflow/runs/log-batch {'method': 'POST', 'json': {'run_id': '54d993fa893a4890a7eb84af33803069', 'metrics': [{'key': 'learning_rate', 'value': 1.0000000000000003e-05, 'timestamp': '1642611644001', 'step': '3', 'epoch': '3', 'tags': [{'key': 'sys_metric', 'value': 'no'}]}, {'key': 'momentum', 'value': 0.9, 'timestamp': '1642611644001', 'step': '3', 'epoch': '3', 'tags': [{'key': 'sys_metric', 'value': 'no'}]}], 'tags': [{'key': 'sys_metric', 'value': 'no'}]}}\n"
     ]
    },
    {
     "name": "stderr",
     "output_type": "stream",
     "text": [
      "2022-01-19 17:00:45,493 - mmcv - INFO - Epoch [4][310/391]\tlr: 1.000e-05, eta: 0:02:15, time: 0.157, data_time: 0.010, memory: 14, \n"
     ]
    },
    {
     "name": "stdout",
     "output_type": "stream",
     "text": [
      "endpoint:  /api/2.0/mlflow/runs/log-batch {'method': 'POST', 'json': {'run_id': '54d993fa893a4890a7eb84af33803069', 'metrics': [{'key': 'learning_rate', 'value': 1.0000000000000003e-05, 'timestamp': '1642611645609', 'step': '3', 'epoch': '3', 'tags': [{'key': 'sys_metric', 'value': 'no'}]}, {'key': 'momentum', 'value': 0.9, 'timestamp': '1642611645609', 'step': '3', 'epoch': '3', 'tags': [{'key': 'sys_metric', 'value': 'no'}]}], 'tags': [{'key': 'sys_metric', 'value': 'no'}]}}\n"
     ]
    },
    {
     "name": "stderr",
     "output_type": "stream",
     "text": [
      "2022-01-19 17:00:47,242 - mmcv - INFO - Epoch [4][320/391]\tlr: 1.000e-05, eta: 0:01:58, time: 0.161, data_time: 0.007, memory: 14, \n"
     ]
    },
    {
     "name": "stdout",
     "output_type": "stream",
     "text": [
      "endpoint:  /api/2.0/mlflow/runs/log-batch {'method': 'POST', 'json': {'run_id': '54d993fa893a4890a7eb84af33803069', 'metrics': [{'key': 'learning_rate', 'value': 1.0000000000000003e-05, 'timestamp': '1642611647354', 'step': '3', 'epoch': '3', 'tags': [{'key': 'sys_metric', 'value': 'no'}]}, {'key': 'momentum', 'value': 0.9, 'timestamp': '1642611647354', 'step': '3', 'epoch': '3', 'tags': [{'key': 'sys_metric', 'value': 'no'}]}], 'tags': [{'key': 'sys_metric', 'value': 'no'}]}}\n"
     ]
    },
    {
     "name": "stderr",
     "output_type": "stream",
     "text": [
      "2022-01-19 17:00:48,771 - mmcv - INFO - Epoch [4][330/391]\tlr: 1.000e-05, eta: 0:01:41, time: 0.175, data_time: 0.007, memory: 14, \n"
     ]
    },
    {
     "name": "stdout",
     "output_type": "stream",
     "text": [
      "endpoint:  /api/2.0/mlflow/runs/log-batch {'method': 'POST', 'json': {'run_id': '54d993fa893a4890a7eb84af33803069', 'metrics': [{'key': 'learning_rate', 'value': 1.0000000000000003e-05, 'timestamp': '1642611648907', 'step': '3', 'epoch': '3', 'tags': [{'key': 'sys_metric', 'value': 'no'}]}, {'key': 'momentum', 'value': 0.9, 'timestamp': '1642611648907', 'step': '3', 'epoch': '3', 'tags': [{'key': 'sys_metric', 'value': 'no'}]}], 'tags': [{'key': 'sys_metric', 'value': 'no'}]}}\n"
     ]
    },
    {
     "name": "stderr",
     "output_type": "stream",
     "text": [
      "2022-01-19 17:00:50,596 - mmcv - INFO - Epoch [4][340/391]\tlr: 1.000e-05, eta: 0:01:25, time: 0.155, data_time: 0.010, memory: 14, \n"
     ]
    },
    {
     "name": "stdout",
     "output_type": "stream",
     "text": [
      "endpoint:  /api/2.0/mlflow/runs/log-batch {'method': 'POST', 'json': {'run_id': '54d993fa893a4890a7eb84af33803069', 'metrics': [{'key': 'learning_rate', 'value': 1.0000000000000003e-05, 'timestamp': '1642611650712', 'step': '3', 'epoch': '3', 'tags': [{'key': 'sys_metric', 'value': 'no'}]}, {'key': 'momentum', 'value': 0.9, 'timestamp': '1642611650712', 'step': '3', 'epoch': '3', 'tags': [{'key': 'sys_metric', 'value': 'no'}]}], 'tags': [{'key': 'sys_metric', 'value': 'no'}]}}\n"
     ]
    },
    {
     "name": "stderr",
     "output_type": "stream",
     "text": [
      "2022-01-19 17:00:52,102 - mmcv - INFO - Epoch [4][350/391]\tlr: 1.000e-05, eta: 0:01:08, time: 0.180, data_time: 0.007, memory: 14, \n"
     ]
    },
    {
     "name": "stdout",
     "output_type": "stream",
     "text": [
      "endpoint:  /api/2.0/mlflow/runs/log-batch {'method': 'POST', 'json': {'run_id': '54d993fa893a4890a7eb84af33803069', 'metrics': [{'key': 'learning_rate', 'value': 1.0000000000000003e-05, 'timestamp': '1642611652232', 'step': '3', 'epoch': '3', 'tags': [{'key': 'sys_metric', 'value': 'no'}]}, {'key': 'momentum', 'value': 0.9, 'timestamp': '1642611652232', 'step': '3', 'epoch': '3', 'tags': [{'key': 'sys_metric', 'value': 'no'}]}], 'tags': [{'key': 'sys_metric', 'value': 'no'}]}}\n"
     ]
    },
    {
     "name": "stderr",
     "output_type": "stream",
     "text": [
      "2022-01-19 17:00:53,752 - mmcv - INFO - Epoch [4][360/391]\tlr: 1.000e-05, eta: 0:00:51, time: 0.152, data_time: 0.009, memory: 14, \n"
     ]
    },
    {
     "name": "stdout",
     "output_type": "stream",
     "text": [
      "endpoint:  /api/2.0/mlflow/runs/log-batch {'method': 'POST', 'json': {'run_id': '54d993fa893a4890a7eb84af33803069', 'metrics': [{'key': 'learning_rate', 'value': 1.0000000000000003e-05, 'timestamp': '1642611653868', 'step': '3', 'epoch': '3', 'tags': [{'key': 'sys_metric', 'value': 'no'}]}, {'key': 'momentum', 'value': 0.9, 'timestamp': '1642611653868', 'step': '3', 'epoch': '3', 'tags': [{'key': 'sys_metric', 'value': 'no'}]}], 'tags': [{'key': 'sys_metric', 'value': 'no'}]}}\n"
     ]
    },
    {
     "name": "stderr",
     "output_type": "stream",
     "text": [
      "2022-01-19 17:00:55,365 - mmcv - INFO - Epoch [4][370/391]\tlr: 1.000e-05, eta: 0:00:35, time: 0.164, data_time: 0.007, memory: 14, \n"
     ]
    },
    {
     "name": "stdout",
     "output_type": "stream",
     "text": [
      "endpoint:  /api/2.0/mlflow/runs/log-batch {'method': 'POST', 'json': {'run_id': '54d993fa893a4890a7eb84af33803069', 'metrics': [{'key': 'learning_rate', 'value': 1.0000000000000003e-05, 'timestamp': '1642611655480', 'step': '3', 'epoch': '3', 'tags': [{'key': 'sys_metric', 'value': 'no'}]}, {'key': 'momentum', 'value': 0.9, 'timestamp': '1642611655480', 'step': '3', 'epoch': '3', 'tags': [{'key': 'sys_metric', 'value': 'no'}]}], 'tags': [{'key': 'sys_metric', 'value': 'no'}]}}\n"
     ]
    },
    {
     "name": "stderr",
     "output_type": "stream",
     "text": [
      "2022-01-19 17:00:56,948 - mmcv - INFO - Epoch [4][380/391]\tlr: 1.000e-05, eta: 0:00:18, time: 0.161, data_time: 0.007, memory: 14, \n"
     ]
    },
    {
     "name": "stdout",
     "output_type": "stream",
     "text": [
      "endpoint:  /api/2.0/mlflow/runs/log-batch {'method': 'POST', 'json': {'run_id': '54d993fa893a4890a7eb84af33803069', 'metrics': [{'key': 'learning_rate', 'value': 1.0000000000000003e-05, 'timestamp': '1642611657070', 'step': '3', 'epoch': '3', 'tags': [{'key': 'sys_metric', 'value': 'no'}]}, {'key': 'momentum', 'value': 0.9, 'timestamp': '1642611657070', 'step': '3', 'epoch': '3', 'tags': [{'key': 'sys_metric', 'value': 'no'}]}], 'tags': [{'key': 'sys_metric', 'value': 'no'}]}}\n"
     ]
    },
    {
     "name": "stderr",
     "output_type": "stream",
     "text": [
      "2022-01-19 17:00:58,703 - mmcv - INFO - Epoch [4][390/391]\tlr: 1.000e-05, eta: 0:00:01, time: 0.159, data_time: 0.008, memory: 14, \n",
      "2022-01-19 17:00:58,757 - mmcv - INFO - Saving checkpoint at 4 epochs\n"
     ]
    }
   ],
   "source": [
    "import torch\n",
    "import torch.nn as nn\n",
    "import torch.nn.functional as F\n",
    "import torch.optim as optim\n",
    "import torchvision.transforms as transforms\n",
    "from torch.utils.data import DataLoader\n",
    "from torchvision.datasets import CIFAR10\n",
    "\n",
    "from mmcv.parallel import MMDataParallel\n",
    "from mmcv.runner import EpochBasedRunner\n",
    "from mmcv.utils import get_logger\n",
    "\n",
    "\n",
    "class Model(nn.Module):\n",
    "\n",
    "    def __init__(self):\n",
    "        super(Model, self).__init__()\n",
    "        self.conv1 = nn.Conv2d(3, 6, 5)\n",
    "        self.pool = nn.MaxPool2d(2, 2)\n",
    "        self.conv2 = nn.Conv2d(6, 16, 5)\n",
    "        self.fc1 = nn.Linear(16 * 5 * 5, 120)\n",
    "        self.fc2 = nn.Linear(120, 84)\n",
    "        self.fc3 = nn.Linear(84, 10)\n",
    "        self.loss_fn = nn.CrossEntropyLoss()\n",
    "\n",
    "    def forward(self, x):\n",
    "        x = self.pool(F.relu(self.conv1(x)))\n",
    "        x = self.pool(F.relu(self.conv2(x)))\n",
    "        x = x.view(-1, 16 * 5 * 5)\n",
    "        x = F.relu(self.fc1(x))\n",
    "        x = F.relu(self.fc2(x))\n",
    "        x = self.fc3(x)\n",
    "        return x\n",
    "\n",
    "    def train_step(self, data, optimizer):\n",
    "        images, labels = data\n",
    "        predicts = self(images)  # -> self.__call__() -> self.forward()\n",
    "        loss = self.loss_fn(predicts, labels)\n",
    "        return {'loss': loss}\n",
    "\n",
    "\n",
    "if __name__ == '__main__':\n",
    "    model = Model()\n",
    "    if torch.cuda.is_available():\n",
    "        # only use gpu:0 to train\n",
    "        # Solved issue https://github.com/open-mmlab/mmcv/issues/1470\n",
    "        model = MMDataParallel(model.cuda(), device_ids=[0])\n",
    "\n",
    "    # dataset and dataloader\n",
    "    transform = transforms.Compose([\n",
    "        transforms.ToTensor(),\n",
    "        transforms.Normalize((0.5, 0.5, 0.5), (0.5, 0.5, 0.5))\n",
    "    ])\n",
    "    trainset = CIFAR10(\n",
    "        root='data', train=True, download=True, transform=transform)\n",
    "    trainloader = DataLoader(\n",
    "        trainset, batch_size=128, shuffle=True, num_workers=2)\n",
    "\n",
    "    optimizer = optim.SGD(model.parameters(), lr=0.001, momentum=0.9)\n",
    "    logger = get_logger('mmcv')\n",
    "    # runner is a scheduler to manage the training\n",
    "    runner = EpochBasedRunner(\n",
    "        model,\n",
    "        optimizer=optimizer,\n",
    "        work_dir='./work_dir',\n",
    "        logger=logger,\n",
    "        max_epochs=4)\n",
    "\n",
    "    # learning rate scheduler config\n",
    "    lr_config = dict(policy='step', step=[2, 3])\n",
    "    # configuration of optimizer\n",
    "    optimizer_config = dict(grad_clip=None)\n",
    "    # configuration of saving checkpoints periodically\n",
    "    checkpoint_config = dict(interval=1)\n",
    "    # save log periodically and multiple hooks can be used simultaneously\n",
    "    log_config = dict(interval=100, hooks=[dict(type='TextLoggerHook')])\n",
    "    \n",
    "    # register hooks to runner and those hooks will be invoked automatically\n",
    "    custom_hooks = [dict(type=\"SegmindLoggerHook\")]\n",
    "    runner.register_training_hooks(\n",
    "        lr_config=lr_config,\n",
    "        optimizer_config=optimizer_config,\n",
    "        checkpoint_config=checkpoint_config,\n",
    "        log_config=log_config,\n",
    "        custom_hooks_config=custom_hooks)\n",
    "\n",
    "    runner.run([trainloader], [('train', 1)])\n"
   ]
  },
  {
   "cell_type": "code",
   "execution_count": null,
   "id": "b6245ac5-614a-4ca2-b234-f70a468b9d35",
   "metadata": {},
   "outputs": [],
   "source": []
  }
 ],
 "metadata": {
  "kernelspec": {
   "display_name": "Python 3 (ipykernel)",
   "language": "python",
   "name": "python3"
  },
  "language_info": {
   "codemirror_mode": {
    "name": "ipython",
    "version": 3
   },
   "file_extension": ".py",
   "mimetype": "text/x-python",
   "name": "python",
   "nbconvert_exporter": "python",
   "pygments_lexer": "ipython3",
   "version": "3.7.11"
  }
 },
 "nbformat": 4,
 "nbformat_minor": 5
}
